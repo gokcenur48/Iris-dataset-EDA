{
 "cells": [
  {
   "cell_type": "markdown",
   "id": "0111f8c7",
   "metadata": {
    "papermill": {
     "duration": 0.06739,
     "end_time": "2022-03-29T22:17:45.037148",
     "exception": false,
     "start_time": "2022-03-29T22:17:44.969758",
     "status": "completed"
    },
    "tags": []
   },
   "source": [
    "## Keşifçi Veri Analizi | Becerileri Pekiştirme"
   ]
  },
  {
   "cell_type": "markdown",
   "id": "ba983474",
   "metadata": {
    "papermill": {
     "duration": 0.068292,
     "end_time": "2022-03-29T22:17:45.172391",
     "exception": false,
     "start_time": "2022-03-29T22:17:45.104099",
     "status": "completed"
    },
    "tags": []
   },
   "source": [
    "Aşağıda ihtiyacımız doğrultusunda kullanacağımız kütüphaneleri yükleyelim."
   ]
  },
  {
   "cell_type": "code",
   "execution_count": 1,
   "id": "9f331c79",
   "metadata": {
    "execution": {
     "iopub.execute_input": "2022-03-29T22:17:45.306786Z",
     "iopub.status.busy": "2022-03-29T22:17:45.305578Z",
     "iopub.status.idle": "2022-03-29T22:17:46.400871Z",
     "shell.execute_reply": "2022-03-29T22:17:46.401702Z",
     "shell.execute_reply.started": "2022-03-29T22:14:54.851222Z"
    },
    "papermill": {
     "duration": 1.16457,
     "end_time": "2022-03-29T22:17:46.402091",
     "exception": false,
     "start_time": "2022-03-29T22:17:45.237521",
     "status": "completed"
    },
    "tags": []
   },
   "outputs": [],
   "source": [
    "import numpy as np\n",
    "import seaborn as sns\n",
    "import pandas as pd\n",
    "import matplotlib.pyplot as plt\n"
   ]
  },
  {
   "cell_type": "markdown",
   "id": "08fc0c0a",
   "metadata": {
    "papermill": {
     "duration": 0.065326,
     "end_time": "2022-03-29T22:17:46.535227",
     "exception": false,
     "start_time": "2022-03-29T22:17:46.469901",
     "status": "completed"
    },
    "tags": []
   },
   "source": [
    "Veri çerçevemizi bulunduğumuz dizinden yükleyelim ve bir veri çerçevesi haline getirerek df değişkenine atayalım. (pd.read_csv(...csv))"
   ]
  },
  {
   "cell_type": "code",
   "execution_count": 2,
   "id": "5c0529a4",
   "metadata": {
    "execution": {
     "iopub.execute_input": "2022-03-29T22:17:46.671574Z",
     "iopub.status.busy": "2022-03-29T22:17:46.670871Z",
     "iopub.status.idle": "2022-03-29T22:17:46.686012Z",
     "shell.execute_reply": "2022-03-29T22:17:46.686720Z",
     "shell.execute_reply.started": "2022-03-29T22:14:56.018521Z"
    },
    "papermill": {
     "duration": 0.084233,
     "end_time": "2022-03-29T22:17:46.686925",
     "exception": false,
     "start_time": "2022-03-29T22:17:46.602692",
     "status": "completed"
    },
    "tags": []
   },
   "outputs": [],
   "source": [
    "df = pd.read_csv(\"../input/iris-flower-dataset/IRIS.csv\")\n"
   ]
  },
  {
   "cell_type": "markdown",
   "id": "b25ee761",
   "metadata": {
    "papermill": {
     "duration": 0.066735,
     "end_time": "2022-03-29T22:17:46.821046",
     "exception": false,
     "start_time": "2022-03-29T22:17:46.754311",
     "status": "completed"
    },
    "tags": []
   },
   "source": [
    "Veri çerçevesinin ilk 5 gözlemini görüntüleyelim."
   ]
  },
  {
   "cell_type": "code",
   "execution_count": 3,
   "id": "76655783",
   "metadata": {
    "execution": {
     "iopub.execute_input": "2022-03-29T22:17:46.959018Z",
     "iopub.status.busy": "2022-03-29T22:17:46.958337Z",
     "iopub.status.idle": "2022-03-29T22:17:46.982919Z",
     "shell.execute_reply": "2022-03-29T22:17:46.983426Z",
     "shell.execute_reply.started": "2022-03-29T22:14:56.040638Z"
    },
    "papermill": {
     "duration": 0.095692,
     "end_time": "2022-03-29T22:17:46.983617",
     "exception": false,
     "start_time": "2022-03-29T22:17:46.887925",
     "status": "completed"
    },
    "tags": []
   },
   "outputs": [
    {
     "data": {
      "text/html": [
       "<div>\n",
       "<style scoped>\n",
       "    .dataframe tbody tr th:only-of-type {\n",
       "        vertical-align: middle;\n",
       "    }\n",
       "\n",
       "    .dataframe tbody tr th {\n",
       "        vertical-align: top;\n",
       "    }\n",
       "\n",
       "    .dataframe thead th {\n",
       "        text-align: right;\n",
       "    }\n",
       "</style>\n",
       "<table border=\"1\" class=\"dataframe\">\n",
       "  <thead>\n",
       "    <tr style=\"text-align: right;\">\n",
       "      <th></th>\n",
       "      <th>sepal_length</th>\n",
       "      <th>sepal_width</th>\n",
       "      <th>petal_length</th>\n",
       "      <th>petal_width</th>\n",
       "      <th>species</th>\n",
       "    </tr>\n",
       "  </thead>\n",
       "  <tbody>\n",
       "    <tr>\n",
       "      <th>0</th>\n",
       "      <td>5.1</td>\n",
       "      <td>3.5</td>\n",
       "      <td>1.4</td>\n",
       "      <td>0.2</td>\n",
       "      <td>Iris-setosa</td>\n",
       "    </tr>\n",
       "    <tr>\n",
       "      <th>1</th>\n",
       "      <td>4.9</td>\n",
       "      <td>3.0</td>\n",
       "      <td>1.4</td>\n",
       "      <td>0.2</td>\n",
       "      <td>Iris-setosa</td>\n",
       "    </tr>\n",
       "    <tr>\n",
       "      <th>2</th>\n",
       "      <td>4.7</td>\n",
       "      <td>3.2</td>\n",
       "      <td>1.3</td>\n",
       "      <td>0.2</td>\n",
       "      <td>Iris-setosa</td>\n",
       "    </tr>\n",
       "    <tr>\n",
       "      <th>3</th>\n",
       "      <td>4.6</td>\n",
       "      <td>3.1</td>\n",
       "      <td>1.5</td>\n",
       "      <td>0.2</td>\n",
       "      <td>Iris-setosa</td>\n",
       "    </tr>\n",
       "    <tr>\n",
       "      <th>4</th>\n",
       "      <td>5.0</td>\n",
       "      <td>3.6</td>\n",
       "      <td>1.4</td>\n",
       "      <td>0.2</td>\n",
       "      <td>Iris-setosa</td>\n",
       "    </tr>\n",
       "  </tbody>\n",
       "</table>\n",
       "</div>"
      ],
      "text/plain": [
       "   sepal_length  sepal_width  petal_length  petal_width      species\n",
       "0           5.1          3.5           1.4          0.2  Iris-setosa\n",
       "1           4.9          3.0           1.4          0.2  Iris-setosa\n",
       "2           4.7          3.2           1.3          0.2  Iris-setosa\n",
       "3           4.6          3.1           1.5          0.2  Iris-setosa\n",
       "4           5.0          3.6           1.4          0.2  Iris-setosa"
      ]
     },
     "execution_count": 3,
     "metadata": {},
     "output_type": "execute_result"
    }
   ],
   "source": [
    "df.head()\n"
   ]
  },
  {
   "cell_type": "markdown",
   "id": "39f62c1f",
   "metadata": {
    "papermill": {
     "duration": 0.065804,
     "end_time": "2022-03-29T22:17:47.116525",
     "exception": false,
     "start_time": "2022-03-29T22:17:47.050721",
     "status": "completed"
    },
    "tags": []
   },
   "source": [
    "Veri çerçevesinin kaç öznitelik ve kaç gözlemden oluştuğunu görüntüleyelim."
   ]
  },
  {
   "cell_type": "code",
   "execution_count": 4,
   "id": "ff8b2a36",
   "metadata": {
    "execution": {
     "iopub.execute_input": "2022-03-29T22:17:47.252127Z",
     "iopub.status.busy": "2022-03-29T22:17:47.251450Z",
     "iopub.status.idle": "2022-03-29T22:17:47.256793Z",
     "shell.execute_reply": "2022-03-29T22:17:47.257295Z",
     "shell.execute_reply.started": "2022-03-29T22:14:56.069027Z"
    },
    "papermill": {
     "duration": 0.074969,
     "end_time": "2022-03-29T22:17:47.257463",
     "exception": false,
     "start_time": "2022-03-29T22:17:47.182494",
     "status": "completed"
    },
    "tags": []
   },
   "outputs": [
    {
     "data": {
      "text/plain": [
       "(150, 5)"
      ]
     },
     "execution_count": 4,
     "metadata": {},
     "output_type": "execute_result"
    }
   ],
   "source": [
    "df.shape\n",
    "#150 gozlem ve 5 oznitelikten oluşuyor."
   ]
  },
  {
   "cell_type": "markdown",
   "id": "11259907",
   "metadata": {
    "papermill": {
     "duration": 0.066091,
     "end_time": "2022-03-29T22:17:47.390056",
     "exception": false,
     "start_time": "2022-03-29T22:17:47.323965",
     "status": "completed"
    },
    "tags": []
   },
   "source": [
    "Veri çerçevesindeki değişkenlerin hangi tipte olduğunu ve bellek kullanımını görüntüleyelim."
   ]
  },
  {
   "cell_type": "code",
   "execution_count": 5,
   "id": "494b27ad",
   "metadata": {
    "execution": {
     "iopub.execute_input": "2022-03-29T22:17:47.547467Z",
     "iopub.status.busy": "2022-03-29T22:17:47.546783Z",
     "iopub.status.idle": "2022-03-29T22:17:47.550637Z",
     "shell.execute_reply": "2022-03-29T22:17:47.549948Z",
     "shell.execute_reply.started": "2022-03-29T22:14:56.077078Z"
    },
    "papermill": {
     "duration": 0.094889,
     "end_time": "2022-03-29T22:17:47.550860",
     "exception": false,
     "start_time": "2022-03-29T22:17:47.455971",
     "status": "completed"
    },
    "tags": []
   },
   "outputs": [
    {
     "name": "stdout",
     "output_type": "stream",
     "text": [
      "<class 'pandas.core.frame.DataFrame'>\n",
      "RangeIndex: 150 entries, 0 to 149\n",
      "Data columns (total 5 columns):\n",
      " #   Column        Non-Null Count  Dtype  \n",
      "---  ------        --------------  -----  \n",
      " 0   sepal_length  150 non-null    float64\n",
      " 1   sepal_width   150 non-null    float64\n",
      " 2   petal_length  150 non-null    float64\n",
      " 3   petal_width   150 non-null    float64\n",
      " 4   species       150 non-null    object \n",
      "dtypes: float64(4), object(1)\n",
      "memory usage: 6.0+ KB\n"
     ]
    }
   ],
   "source": [
    "df.info()"
   ]
  },
  {
   "cell_type": "markdown",
   "id": "760d418d",
   "metadata": {
    "papermill": {
     "duration": 0.066229,
     "end_time": "2022-03-29T22:17:47.683638",
     "exception": false,
     "start_time": "2022-03-29T22:17:47.617409",
     "status": "completed"
    },
    "tags": []
   },
   "source": [
    "Veri çerçevesindeki sayısal değişkenler için temel istatistik değerlerini görüntüleyelim.\n",
    "\n",
    "Standart sapma ve ortalama değerlerden çıkarımda bulunarak hangi değişkenlerin ne kadar varyansa sahip olduğu hakkında fikir yürütelim."
   ]
  },
  {
   "cell_type": "code",
   "execution_count": 6,
   "id": "6c4de257",
   "metadata": {
    "execution": {
     "iopub.execute_input": "2022-03-29T22:17:47.819891Z",
     "iopub.status.busy": "2022-03-29T22:17:47.819256Z",
     "iopub.status.idle": "2022-03-29T22:17:47.848367Z",
     "shell.execute_reply": "2022-03-29T22:17:47.847819Z",
     "shell.execute_reply.started": "2022-03-29T22:14:56.113257Z"
    },
    "papermill": {
     "duration": 0.098274,
     "end_time": "2022-03-29T22:17:47.848516",
     "exception": false,
     "start_time": "2022-03-29T22:17:47.750242",
     "status": "completed"
    },
    "tags": []
   },
   "outputs": [
    {
     "data": {
      "text/html": [
       "<div>\n",
       "<style scoped>\n",
       "    .dataframe tbody tr th:only-of-type {\n",
       "        vertical-align: middle;\n",
       "    }\n",
       "\n",
       "    .dataframe tbody tr th {\n",
       "        vertical-align: top;\n",
       "    }\n",
       "\n",
       "    .dataframe thead th {\n",
       "        text-align: right;\n",
       "    }\n",
       "</style>\n",
       "<table border=\"1\" class=\"dataframe\">\n",
       "  <thead>\n",
       "    <tr style=\"text-align: right;\">\n",
       "      <th></th>\n",
       "      <th>count</th>\n",
       "      <th>mean</th>\n",
       "      <th>std</th>\n",
       "      <th>min</th>\n",
       "      <th>25%</th>\n",
       "      <th>50%</th>\n",
       "      <th>75%</th>\n",
       "      <th>max</th>\n",
       "    </tr>\n",
       "  </thead>\n",
       "  <tbody>\n",
       "    <tr>\n",
       "      <th>sepal_length</th>\n",
       "      <td>150.0</td>\n",
       "      <td>5.843333</td>\n",
       "      <td>0.828066</td>\n",
       "      <td>4.3</td>\n",
       "      <td>5.1</td>\n",
       "      <td>5.80</td>\n",
       "      <td>6.4</td>\n",
       "      <td>7.9</td>\n",
       "    </tr>\n",
       "    <tr>\n",
       "      <th>sepal_width</th>\n",
       "      <td>150.0</td>\n",
       "      <td>3.054000</td>\n",
       "      <td>0.433594</td>\n",
       "      <td>2.0</td>\n",
       "      <td>2.8</td>\n",
       "      <td>3.00</td>\n",
       "      <td>3.3</td>\n",
       "      <td>4.4</td>\n",
       "    </tr>\n",
       "    <tr>\n",
       "      <th>petal_length</th>\n",
       "      <td>150.0</td>\n",
       "      <td>3.758667</td>\n",
       "      <td>1.764420</td>\n",
       "      <td>1.0</td>\n",
       "      <td>1.6</td>\n",
       "      <td>4.35</td>\n",
       "      <td>5.1</td>\n",
       "      <td>6.9</td>\n",
       "    </tr>\n",
       "    <tr>\n",
       "      <th>petal_width</th>\n",
       "      <td>150.0</td>\n",
       "      <td>1.198667</td>\n",
       "      <td>0.763161</td>\n",
       "      <td>0.1</td>\n",
       "      <td>0.3</td>\n",
       "      <td>1.30</td>\n",
       "      <td>1.8</td>\n",
       "      <td>2.5</td>\n",
       "    </tr>\n",
       "  </tbody>\n",
       "</table>\n",
       "</div>"
      ],
      "text/plain": [
       "              count      mean       std  min  25%   50%  75%  max\n",
       "sepal_length  150.0  5.843333  0.828066  4.3  5.1  5.80  6.4  7.9\n",
       "sepal_width   150.0  3.054000  0.433594  2.0  2.8  3.00  3.3  4.4\n",
       "petal_length  150.0  3.758667  1.764420  1.0  1.6  4.35  5.1  6.9\n",
       "petal_width   150.0  1.198667  0.763161  0.1  0.3  1.30  1.8  2.5"
      ]
     },
     "execution_count": 6,
     "metadata": {},
     "output_type": "execute_result"
    }
   ],
   "source": [
    "df.describe().T"
   ]
  },
  {
   "cell_type": "markdown",
   "id": "4fc0c9d9",
   "metadata": {
    "papermill": {
     "duration": 0.067356,
     "end_time": "2022-03-29T22:17:47.985307",
     "exception": false,
     "start_time": "2022-03-29T22:17:47.917951",
     "status": "completed"
    },
    "tags": []
   },
   "source": [
    "Veri çerçevesinde hangi öznitelikte kaç adet eksik değer olduğunu gözlemleyelim."
   ]
  },
  {
   "cell_type": "code",
   "execution_count": 7,
   "id": "c929b46e",
   "metadata": {
    "execution": {
     "iopub.execute_input": "2022-03-29T22:17:48.124755Z",
     "iopub.status.busy": "2022-03-29T22:17:48.124026Z",
     "iopub.status.idle": "2022-03-29T22:17:48.131264Z",
     "shell.execute_reply": "2022-03-29T22:17:48.131774Z",
     "shell.execute_reply.started": "2022-03-29T22:14:56.146769Z"
    },
    "papermill": {
     "duration": 0.079572,
     "end_time": "2022-03-29T22:17:48.131959",
     "exception": false,
     "start_time": "2022-03-29T22:17:48.052387",
     "status": "completed"
    },
    "tags": []
   },
   "outputs": [
    {
     "data": {
      "text/plain": [
       "sepal_length    0\n",
       "sepal_width     0\n",
       "petal_length    0\n",
       "petal_width     0\n",
       "species         0\n",
       "dtype: int64"
      ]
     },
     "execution_count": 7,
     "metadata": {},
     "output_type": "execute_result"
    }
   ],
   "source": [
    "df.isna().sum()\n",
    "#eksik değer bulunmuyor."
   ]
  },
  {
   "cell_type": "markdown",
   "id": "04725c17",
   "metadata": {
    "papermill": {
     "duration": 0.067351,
     "end_time": "2022-03-29T22:17:48.267465",
     "exception": false,
     "start_time": "2022-03-29T22:17:48.200114",
     "status": "completed"
    },
    "tags": []
   },
   "source": [
    "Sayısal değişkenler arasında korelasyon olup olmadığını göstermek için korelasyon matrisi çizdirelim. Korelasyon katsayıları hakkında fikir yürütelim.\n",
    "\n",
    "En güçlü pozitif ilişki hangi iki değişken arasındadır?"
   ]
  },
  {
   "cell_type": "code",
   "execution_count": 8,
   "id": "854d5b79",
   "metadata": {
    "execution": {
     "iopub.execute_input": "2022-03-29T22:17:48.412494Z",
     "iopub.status.busy": "2022-03-29T22:17:48.411738Z",
     "iopub.status.idle": "2022-03-29T22:17:48.421426Z",
     "shell.execute_reply": "2022-03-29T22:17:48.421979Z",
     "shell.execute_reply.started": "2022-03-29T22:14:56.157186Z"
    },
    "papermill": {
     "duration": 0.084593,
     "end_time": "2022-03-29T22:17:48.422169",
     "exception": false,
     "start_time": "2022-03-29T22:17:48.337576",
     "status": "completed"
    },
    "tags": []
   },
   "outputs": [
    {
     "data": {
      "text/html": [
       "<div>\n",
       "<style scoped>\n",
       "    .dataframe tbody tr th:only-of-type {\n",
       "        vertical-align: middle;\n",
       "    }\n",
       "\n",
       "    .dataframe tbody tr th {\n",
       "        vertical-align: top;\n",
       "    }\n",
       "\n",
       "    .dataframe thead th {\n",
       "        text-align: right;\n",
       "    }\n",
       "</style>\n",
       "<table border=\"1\" class=\"dataframe\">\n",
       "  <thead>\n",
       "    <tr style=\"text-align: right;\">\n",
       "      <th></th>\n",
       "      <th>sepal_length</th>\n",
       "      <th>sepal_width</th>\n",
       "      <th>petal_length</th>\n",
       "      <th>petal_width</th>\n",
       "    </tr>\n",
       "  </thead>\n",
       "  <tbody>\n",
       "    <tr>\n",
       "      <th>sepal_length</th>\n",
       "      <td>1.000000</td>\n",
       "      <td>-0.109369</td>\n",
       "      <td>0.871754</td>\n",
       "      <td>0.817954</td>\n",
       "    </tr>\n",
       "    <tr>\n",
       "      <th>sepal_width</th>\n",
       "      <td>-0.109369</td>\n",
       "      <td>1.000000</td>\n",
       "      <td>-0.420516</td>\n",
       "      <td>-0.356544</td>\n",
       "    </tr>\n",
       "    <tr>\n",
       "      <th>petal_length</th>\n",
       "      <td>0.871754</td>\n",
       "      <td>-0.420516</td>\n",
       "      <td>1.000000</td>\n",
       "      <td>0.962757</td>\n",
       "    </tr>\n",
       "    <tr>\n",
       "      <th>petal_width</th>\n",
       "      <td>0.817954</td>\n",
       "      <td>-0.356544</td>\n",
       "      <td>0.962757</td>\n",
       "      <td>1.000000</td>\n",
       "    </tr>\n",
       "  </tbody>\n",
       "</table>\n",
       "</div>"
      ],
      "text/plain": [
       "              sepal_length  sepal_width  petal_length  petal_width\n",
       "sepal_length      1.000000    -0.109369      0.871754     0.817954\n",
       "sepal_width      -0.109369     1.000000     -0.420516    -0.356544\n",
       "petal_length      0.871754    -0.420516      1.000000     0.962757\n",
       "petal_width       0.817954    -0.356544      0.962757     1.000000"
      ]
     },
     "execution_count": 8,
     "metadata": {},
     "output_type": "execute_result"
    }
   ],
   "source": [
    "df.corr()\n",
    "#en güçlü pozitif ilişki petal_width ve petal_length arasındadır."
   ]
  },
  {
   "cell_type": "markdown",
   "id": "2011c9f4",
   "metadata": {
    "papermill": {
     "duration": 0.068095,
     "end_time": "2022-03-29T22:17:48.559764",
     "exception": false,
     "start_time": "2022-03-29T22:17:48.491669",
     "status": "completed"
    },
    "tags": []
   },
   "source": [
    "Korelasyon katsayılarını daha iyi okuyabilmek için ısı haritası çizdirelim."
   ]
  },
  {
   "cell_type": "code",
   "execution_count": 9,
   "id": "7dffb1e7",
   "metadata": {
    "execution": {
     "iopub.execute_input": "2022-03-29T22:17:48.699716Z",
     "iopub.status.busy": "2022-03-29T22:17:48.699035Z",
     "iopub.status.idle": "2022-03-29T22:17:48.964389Z",
     "shell.execute_reply": "2022-03-29T22:17:48.964909Z",
     "shell.execute_reply.started": "2022-03-29T22:14:56.176758Z"
    },
    "papermill": {
     "duration": 0.33697,
     "end_time": "2022-03-29T22:17:48.965099",
     "exception": false,
     "start_time": "2022-03-29T22:17:48.628129",
     "status": "completed"
    },
    "tags": []
   },
   "outputs": [
    {
     "data": {
      "image/png": "[encoded data removed]",
      "text/plain": [
       "<Figure size 432x288 with 2 Axes>"
      ]
     },
     "metadata": {
      "needs_background": "light"
     },
     "output_type": "display_data"
    }
   ],
   "source": [
    "corr=df.corr()\n",
    "sns.heatmap(corr,\n",
    "           xticklabels=corr.columns.values,\n",
    "           yticklabels=corr.columns.values);"
   ]
  },
  {
   "cell_type": "markdown",
   "id": "cdacf30a",
   "metadata": {
    "papermill": {
     "duration": 0.068388,
     "end_time": "2022-03-29T22:17:49.102732",
     "exception": false,
     "start_time": "2022-03-29T22:17:49.034344",
     "status": "completed"
    },
    "tags": []
   },
   "source": [
    "Veri çerçevemizin hedef değişkeninin \"variety\" benzersiz değerlerini görüntüleyelim."
   ]
  },
  {
   "cell_type": "code",
   "execution_count": 10,
   "id": "d0900032",
   "metadata": {
    "execution": {
     "iopub.execute_input": "2022-03-29T22:17:49.247338Z",
     "iopub.status.busy": "2022-03-29T22:17:49.246585Z",
     "iopub.status.idle": "2022-03-29T22:17:49.250703Z",
     "shell.execute_reply": "2022-03-29T22:17:49.250110Z",
     "shell.execute_reply.started": "2022-03-29T22:14:56.447602Z"
    },
    "papermill": {
     "duration": 0.079568,
     "end_time": "2022-03-29T22:17:49.250863",
     "exception": false,
     "start_time": "2022-03-29T22:17:49.171295",
     "status": "completed"
    },
    "tags": []
   },
   "outputs": [
    {
     "data": {
      "text/plain": [
       "array(['Iris-setosa', 'Iris-versicolor', 'Iris-virginica'], dtype=object)"
      ]
     },
     "execution_count": 10,
     "metadata": {},
     "output_type": "execute_result"
    }
   ],
   "source": [
    "df['species'].unique()"
   ]
  },
  {
   "cell_type": "markdown",
   "id": "77613873",
   "metadata": {
    "papermill": {
     "duration": 0.069732,
     "end_time": "2022-03-29T22:17:49.391872",
     "exception": false,
     "start_time": "2022-03-29T22:17:49.322140",
     "status": "completed"
    },
    "tags": []
   },
   "source": [
    "Veri çerçevemizin hedef değişkeninin \"variety\" benzersiz kaç adet değer içerdiğini görüntüleyelim."
   ]
  },
  {
   "cell_type": "code",
   "execution_count": 11,
   "id": "8dd2a258",
   "metadata": {
    "execution": {
     "iopub.execute_input": "2022-03-29T22:17:49.537492Z",
     "iopub.status.busy": "2022-03-29T22:17:49.536779Z",
     "iopub.status.idle": "2022-03-29T22:17:49.540092Z",
     "shell.execute_reply": "2022-03-29T22:17:49.540641Z",
     "shell.execute_reply.started": "2022-03-29T22:14:56.456837Z"
    },
    "papermill": {
     "duration": 0.079879,
     "end_time": "2022-03-29T22:17:49.540933",
     "exception": false,
     "start_time": "2022-03-29T22:17:49.461054",
     "status": "completed"
    },
    "tags": []
   },
   "outputs": [
    {
     "data": {
      "text/plain": [
       "3"
      ]
     },
     "execution_count": 11,
     "metadata": {},
     "output_type": "execute_result"
    }
   ],
   "source": [
    "df[\"species\"].nunique()"
   ]
  },
  {
   "cell_type": "markdown",
   "id": "1e961ac8",
   "metadata": {
    "papermill": {
     "duration": 0.069677,
     "end_time": "2022-03-29T22:17:49.682866",
     "exception": false,
     "start_time": "2022-03-29T22:17:49.613189",
     "status": "completed"
    },
    "tags": []
   },
   "source": [
    "Veri çerçevesindeki sepal.width ve sepal.length değişkenlerinin sürekli olduğunu görüyoruz. Bu iki sürekli veriyi görselleştirmek için önce scatterplot kullanalım."
   ]
  },
  {
   "cell_type": "code",
   "execution_count": 12,
   "id": "64e262b0",
   "metadata": {
    "execution": {
     "iopub.execute_input": "2022-03-29T22:17:49.852021Z",
     "iopub.status.busy": "2022-03-29T22:17:49.844887Z",
     "iopub.status.idle": "2022-03-29T22:17:50.086511Z",
     "shell.execute_reply": "2022-03-29T22:17:50.087113Z",
     "shell.execute_reply.started": "2022-03-29T22:14:56.471657Z"
    },
    "papermill": {
     "duration": 0.334931,
     "end_time": "2022-03-29T22:17:50.087294",
     "exception": false,
     "start_time": "2022-03-29T22:17:49.752363",
     "status": "completed"
    },
    "tags": []
   },
   "outputs": [
    {
     "data": {
      "text/plain": [
       "Text(0.5, 1.0, 'Scatterplot')"
      ]
     },
     "execution_count": 12,
     "metadata": {},
     "output_type": "execute_result"
    },
    {
     "data": {
      "image/png": "[encoded data removed]",
      "text/plain": [
       "<Figure size 432x288 with 1 Axes>"
      ]
     },
     "metadata": {
      "needs_background": "light"
     },
     "output_type": "display_data"
    }
   ],
   "source": [
    "sns.scatterplot(x=\"sepal_width\", y=\"sepal_length\",data=df, color=\"maroon\");\n",
    "plt.title(\"Scatterplot\")"
   ]
  },
  {
   "cell_type": "markdown",
   "id": "efeebee2",
   "metadata": {
    "papermill": {
     "duration": 0.073491,
     "end_time": "2022-03-29T22:17:50.233997",
     "exception": false,
     "start_time": "2022-03-29T22:17:50.160506",
     "status": "completed"
    },
    "tags": []
   },
   "source": [
    "Aynı iki veriyi daha farklı bir açıdan frekanslarıyla incelemek için jointplot kullanarak görselleştirelim. "
   ]
  },
  {
   "cell_type": "code",
   "execution_count": 13,
   "id": "4da7cb78",
   "metadata": {
    "execution": {
     "iopub.execute_input": "2022-03-29T22:17:50.381429Z",
     "iopub.status.busy": "2022-03-29T22:17:50.380759Z",
     "iopub.status.idle": "2022-03-29T22:17:50.994255Z",
     "shell.execute_reply": "2022-03-29T22:17:50.993514Z",
     "shell.execute_reply.started": "2022-03-29T22:14:56.718173Z"
    },
    "papermill": {
     "duration": 0.688024,
     "end_time": "2022-03-29T22:17:50.994408",
     "exception": false,
     "start_time": "2022-03-29T22:17:50.306384",
     "status": "completed"
    },
    "tags": []
   },
   "outputs": [
    {
     "data": {
      "text/plain": [
       "Text(0.5, 1.0, 'Jointplot')"
      ]
     },
     "execution_count": 13,
     "metadata": {},
     "output_type": "execute_result"
    },
    {
     "data": {
      "image/png": "[encoded data removed]",
      "text/plain": [
       "<Figure size 432x432 with 3 Axes>"
      ]
     },
     "metadata": {
      "needs_background": "light"
     },
     "output_type": "display_data"
    }
   ],
   "source": [
    "sns.jointplot(x=\"sepal_width\", y=\"sepal_length\",data=df,color=\"red\")\n",
    "plt.title(\"Jointplot\")"
   ]
  },
  {
   "cell_type": "markdown",
   "id": "df55bd14",
   "metadata": {
    "papermill": {
     "duration": 0.075991,
     "end_time": "2022-03-29T22:17:51.147920",
     "exception": false,
     "start_time": "2022-03-29T22:17:51.071929",
     "status": "completed"
    },
    "tags": []
   },
   "source": [
    "Aynı iki veriyi scatterplot ile tekrardan görselleştirelim fakat bu sefer \"variety\" parametresi ile hedef değişkenine göre kırdıralım. \n",
    "\n",
    "3 farklı renk arasında sepal değişkenleriyle bir kümeleme yapılabilir mi? Ne kadar ayırt edilebilir bunun üzerine düşünelim."
   ]
  },
  {
   "cell_type": "code",
   "execution_count": 14,
   "id": "86bcdf26",
   "metadata": {
    "execution": {
     "iopub.execute_input": "2022-03-29T22:17:51.301121Z",
     "iopub.status.busy": "2022-03-29T22:17:51.300362Z",
     "iopub.status.idle": "2022-03-29T22:17:51.706998Z",
     "shell.execute_reply": "2022-03-29T22:17:51.706276Z",
     "shell.execute_reply.started": "2022-03-29T22:14:57.373605Z"
    },
    "papermill": {
     "duration": 0.484863,
     "end_time": "2022-03-29T22:17:51.707327",
     "exception": false,
     "start_time": "2022-03-29T22:17:51.222464",
     "status": "completed"
    },
    "tags": []
   },
   "outputs": [
    {
     "data": {
      "text/plain": [
       "Text(0.5, 1.0, 'Scatterplot')"
      ]
     },
     "execution_count": 14,
     "metadata": {},
     "output_type": "execute_result"
    },
    {
     "data": {
      "image/png": "[encoded data removed]",
      "text/plain": [
       "<Figure size 432x288 with 1 Axes>"
      ]
     },
     "metadata": {
      "needs_background": "light"
     },
     "output_type": "display_data"
    }
   ],
   "source": [
    "sns.scatterplot(x=\"sepal_width\", y=\"sepal_length\",hue=\"species\" ,data=df)\n",
    "plt.title(\"Scatterplot\")"
   ]
  },
  {
   "cell_type": "markdown",
   "id": "48d8fcf2",
   "metadata": {
    "papermill": {
     "duration": 0.094686,
     "end_time": "2022-03-29T22:17:51.879756",
     "exception": false,
     "start_time": "2022-03-29T22:17:51.785070",
     "status": "completed"
    },
    "tags": []
   },
   "source": [
    "value_counts() fonksiyonu ile veri çerçevemizin ne kadar dengeli dağıldığını sorgulayalım. "
   ]
  },
  {
   "cell_type": "code",
   "execution_count": 15,
   "id": "c09ec5d1",
   "metadata": {
    "execution": {
     "iopub.execute_input": "2022-03-29T22:17:52.040975Z",
     "iopub.status.busy": "2022-03-29T22:17:52.039938Z",
     "iopub.status.idle": "2022-03-29T22:17:52.044375Z",
     "shell.execute_reply": "2022-03-29T22:17:52.045001Z",
     "shell.execute_reply.started": "2022-03-29T22:14:57.782380Z"
    },
    "papermill": {
     "duration": 0.087713,
     "end_time": "2022-03-29T22:17:52.045181",
     "exception": false,
     "start_time": "2022-03-29T22:17:51.957468",
     "status": "completed"
    },
    "tags": []
   },
   "outputs": [
    {
     "data": {
      "text/plain": [
       "Iris-setosa        50\n",
       "Iris-versicolor    50\n",
       "Iris-virginica     50\n",
       "Name: species, dtype: int64"
      ]
     },
     "execution_count": 15,
     "metadata": {},
     "output_type": "execute_result"
    }
   ],
   "source": [
    "df[\"species\"].value_counts()"
   ]
  },
  {
   "cell_type": "markdown",
   "id": "4e7b4bd8",
   "metadata": {
    "papermill": {
     "duration": 0.076892,
     "end_time": "2022-03-29T22:17:52.197677",
     "exception": false,
     "start_time": "2022-03-29T22:17:52.120785",
     "status": "completed"
    },
    "tags": []
   },
   "source": [
    "Keman grafiği çizdirerek sepal.width değişkeninin dağılımını inceleyin. \n",
    "\n",
    "Söz konusu dağılım bizim için ne ifade ediyor, normal bir dağılım olduğunu söyleyebilir miyiz?"
   ]
  },
  {
   "cell_type": "code",
   "execution_count": 16,
   "id": "1ab5c40d",
   "metadata": {
    "execution": {
     "iopub.execute_input": "2022-03-29T22:17:52.357247Z",
     "iopub.status.busy": "2022-03-29T22:17:52.356186Z",
     "iopub.status.idle": "2022-03-29T22:17:52.551690Z",
     "shell.execute_reply": "2022-03-29T22:17:52.550935Z",
     "shell.execute_reply.started": "2022-03-29T22:14:57.797243Z"
    },
    "papermill": {
     "duration": 0.279378,
     "end_time": "2022-03-29T22:17:52.551852",
     "exception": false,
     "start_time": "2022-03-29T22:17:52.272474",
     "status": "completed"
    },
    "tags": []
   },
   "outputs": [
    {
     "data": {
      "text/plain": [
       "<AxesSubplot:ylabel='sepal_width'>"
      ]
     },
     "execution_count": 16,
     "metadata": {},
     "output_type": "execute_result"
    },
    {
     "data": {
      "image/png": "[encoded data removed]",
      "text/plain": [
       "<Figure size 432x288 with 1 Axes>"
      ]
     },
     "metadata": {
      "needs_background": "light"
     },
     "output_type": "display_data"
    }
   ],
   "source": [
    "sns.violinplot(y=\"sepal_width\", data=df, color=\"brown\",linewidth=5)"
   ]
  },
  {
   "cell_type": "markdown",
   "id": "0465fb52",
   "metadata": {
    "papermill": {
     "duration": 0.077318,
     "end_time": "2022-03-29T22:17:52.706589",
     "exception": false,
     "start_time": "2022-03-29T22:17:52.629271",
     "status": "completed"
    },
    "tags": []
   },
   "source": [
    "Daha iyi anlayabilmek için sepal.width üzerine bir distplot çizdirelim."
   ]
  },
  {
   "cell_type": "code",
   "execution_count": 17,
   "id": "4a15df82",
   "metadata": {
    "execution": {
     "iopub.execute_input": "2022-03-29T22:17:52.866076Z",
     "iopub.status.busy": "2022-03-29T22:17:52.865228Z",
     "iopub.status.idle": "2022-03-29T22:17:53.139435Z",
     "shell.execute_reply": "2022-03-29T22:17:53.138884Z",
     "shell.execute_reply.started": "2022-03-29T22:14:58.000600Z"
    },
    "papermill": {
     "duration": 0.355462,
     "end_time": "2022-03-29T22:17:53.139600",
     "exception": false,
     "start_time": "2022-03-29T22:17:52.784138",
     "status": "completed"
    },
    "tags": []
   },
   "outputs": [
    {
     "name": "stderr",
     "output_type": "stream",
     "text": [
      "/opt/conda/lib/python3.7/site-packages/seaborn/distributions.py:2619: FutureWarning: `distplot` is a deprecated function and will be removed in a future version. Please adapt your code to use either `displot` (a figure-level function with similar flexibility) or `histplot` (an axes-level function for histograms).\n",
      "  warnings.warn(msg, FutureWarning)\n"
     ]
    },
    {
     "data": {
      "text/plain": [
       "<AxesSubplot:xlabel='sepal_width', ylabel='Density'>"
      ]
     },
     "execution_count": 17,
     "metadata": {},
     "output_type": "execute_result"
    },
    {
     "data": {
      "image/png": "[encoded data removed]",
      "text/plain": [
       "<Figure size 432x288 with 1 Axes>"
      ]
     },
     "metadata": {
      "needs_background": "light"
     },
     "output_type": "display_data"
    }
   ],
   "source": [
    "sns.distplot(df[\"sepal_width\"], bins=15)"
   ]
  },
  {
   "cell_type": "markdown",
   "id": "040a1125",
   "metadata": {
    "papermill": {
     "duration": 0.079419,
     "end_time": "2022-03-29T22:17:53.298459",
     "exception": false,
     "start_time": "2022-03-29T22:17:53.219040",
     "status": "completed"
    },
    "tags": []
   },
   "source": [
    "Üç çiçek türü için üç farklı keman grafiğini sepal.length değişkeninin dağılımı üzerine tek bir satır ile görselleştirelim."
   ]
  },
  {
   "cell_type": "code",
   "execution_count": 18,
   "id": "507800d3",
   "metadata": {
    "execution": {
     "iopub.execute_input": "2022-03-29T22:17:53.462351Z",
     "iopub.status.busy": "2022-03-29T22:17:53.461690Z",
     "iopub.status.idle": "2022-03-29T22:17:53.706388Z",
     "shell.execute_reply": "2022-03-29T22:17:53.706962Z",
     "shell.execute_reply.started": "2022-03-29T22:14:58.282886Z"
    },
    "papermill": {
     "duration": 0.329635,
     "end_time": "2022-03-29T22:17:53.707144",
     "exception": false,
     "start_time": "2022-03-29T22:17:53.377509",
     "status": "completed"
    },
    "tags": []
   },
   "outputs": [
    {
     "data": {
      "text/plain": [
       "<AxesSubplot:xlabel='species', ylabel='sepal_length'>"
      ]
     },
     "execution_count": 18,
     "metadata": {},
     "output_type": "execute_result"
    },
    {
     "data": {
      "image/png": "[encoded data removed]",
      "text/plain": [
       "<Figure size 432x288 with 1 Axes>"
      ]
     },
     "metadata": {
      "needs_background": "light"
     },
     "output_type": "display_data"
    }
   ],
   "source": [
    "sns.violinplot(y=\"sepal_length\", x=\"species\",data=df)"
   ]
  },
  {
   "cell_type": "markdown",
   "id": "b4666cb1",
   "metadata": {
    "papermill": {
     "duration": 0.080105,
     "end_time": "2022-03-29T22:17:53.871059",
     "exception": false,
     "start_time": "2022-03-29T22:17:53.790954",
     "status": "completed"
    },
    "tags": []
   },
   "source": [
    "Hangi çiçek türünden kaçar adet gözlem barındırıyor veri çerçevemiz?\n",
    "\n",
    "50 x 3 olduğunu ve dengeli olduğunu value_counts ile zaten görmüştük, ancak bunu görsel olarak ifade etmek için sns.countplot() fonksiyonuna variety parametresini vereilm."
   ]
  },
  {
   "cell_type": "code",
   "execution_count": 19,
   "id": "4e302897",
   "metadata": {
    "execution": {
     "iopub.execute_input": "2022-03-29T22:17:54.038895Z",
     "iopub.status.busy": "2022-03-29T22:17:54.038092Z",
     "iopub.status.idle": "2022-03-29T22:17:54.218979Z",
     "shell.execute_reply": "2022-03-29T22:17:54.219565Z",
     "shell.execute_reply.started": "2022-03-29T22:14:58.537013Z"
    },
    "papermill": {
     "duration": 0.265857,
     "end_time": "2022-03-29T22:17:54.219749",
     "exception": false,
     "start_time": "2022-03-29T22:17:53.953892",
     "status": "completed"
    },
    "tags": []
   },
   "outputs": [
    {
     "data": {
      "text/plain": [
       "<AxesSubplot:xlabel='species', ylabel='count'>"
      ]
     },
     "execution_count": 19,
     "metadata": {},
     "output_type": "execute_result"
    },
    {
     "data": {
      "image/png": "[encoded data removed]",
      "text/plain": [
       "<Figure size 432x288 with 1 Axes>"
      ]
     },
     "metadata": {
      "needs_background": "light"
     },
     "output_type": "display_data"
    }
   ],
   "source": [
    "sns.countplot(x=\"species\",data=df)"
   ]
  },
  {
   "cell_type": "markdown",
   "id": "9606b441",
   "metadata": {
    "papermill": {
     "duration": 0.082414,
     "end_time": "2022-03-29T22:17:54.385602",
     "exception": false,
     "start_time": "2022-03-29T22:17:54.303188",
     "status": "completed"
    },
    "tags": []
   },
   "source": [
    "sepal.length ve sepal.width değişkenlerini sns.jointplot ile görselleştirelim, dağılımı ve dağılımın frekansı yüksek olduğu bölgelerini inceleyelim."
   ]
  },
  {
   "cell_type": "code",
   "execution_count": 20,
   "id": "265d6e61",
   "metadata": {
    "execution": {
     "iopub.execute_input": "2022-03-29T22:17:54.568476Z",
     "iopub.status.busy": "2022-03-29T22:17:54.567439Z",
     "iopub.status.idle": "2022-03-29T22:17:55.282527Z",
     "shell.execute_reply": "2022-03-29T22:17:55.283076Z",
     "shell.execute_reply.started": "2022-03-29T22:14:58.722877Z"
    },
    "papermill": {
     "duration": 0.814971,
     "end_time": "2022-03-29T22:17:55.283262",
     "exception": false,
     "start_time": "2022-03-29T22:17:54.468291",
     "status": "completed"
    },
    "tags": []
   },
   "outputs": [
    {
     "data": {
      "text/plain": [
       "<seaborn.axisgrid.JointGrid at 0x7fa165de3ad0>"
      ]
     },
     "execution_count": 20,
     "metadata": {},
     "output_type": "execute_result"
    },
    {
     "data": {
      "image/png": "[encoded data removed]",
      "text/plain": [
       "<Figure size 432x432 with 3 Axes>"
      ]
     },
     "metadata": {
      "needs_background": "light"
     },
     "output_type": "display_data"
    }
   ],
   "source": [
    "sns.jointplot(x=\"sepal_length\", y=\"sepal_width\", data=df,color=\"turquoise\")"
   ]
  },
  {
   "cell_type": "markdown",
   "id": "6501bd9e",
   "metadata": {
    "papermill": {
     "duration": 0.093815,
     "end_time": "2022-03-29T22:17:55.460174",
     "exception": false,
     "start_time": "2022-03-29T22:17:55.366359",
     "status": "completed"
    },
    "tags": []
   },
   "source": [
    "Bir önceki hücrede yapmış olduğumuz görselleştirmeye kind = \"kde\" parametresini ekleyelim. Böylelikle dağılımın noktalı gösterimden çıkıp yoğunluk odaklı bir görselleştirmeye dönüştüğünü görmüş olacağız."
   ]
  },
  {
   "cell_type": "code",
   "execution_count": 21,
   "id": "634ed4b9",
   "metadata": {
    "execution": {
     "iopub.execute_input": "2022-03-29T22:17:55.651249Z",
     "iopub.status.busy": "2022-03-29T22:17:55.650222Z",
     "iopub.status.idle": "2022-03-29T22:17:56.332799Z",
     "shell.execute_reply": "2022-03-29T22:17:56.333325Z",
     "shell.execute_reply.started": "2022-03-29T22:14:59.479906Z"
    },
    "papermill": {
     "duration": 0.770076,
     "end_time": "2022-03-29T22:17:56.333502",
     "exception": false,
     "start_time": "2022-03-29T22:17:55.563426",
     "status": "completed"
    },
    "tags": []
   },
   "outputs": [
    {
     "data": {
      "text/plain": [
       "<seaborn.axisgrid.JointGrid at 0x7fa15dbc40d0>"
      ]
     },
     "execution_count": 21,
     "metadata": {},
     "output_type": "execute_result"
    },
    {
     "data": {
      "image/png": "[encoded data removed]",
      "text/plain": [
       "<Figure size 432x432 with 3 Axes>"
      ]
     },
     "metadata": {
      "needs_background": "light"
     },
     "output_type": "display_data"
    }
   ],
   "source": [
    "sns.jointplot(x=\"sepal_length\", y=\"sepal_width\", kind=\"kde\" , data=df,color=\"purple\")"
   ]
  },
  {
   "cell_type": "markdown",
   "id": "509d08c5",
   "metadata": {
    "papermill": {
     "duration": 0.084921,
     "end_time": "2022-03-29T22:17:56.503583",
     "exception": false,
     "start_time": "2022-03-29T22:17:56.418662",
     "status": "completed"
    },
    "tags": []
   },
   "source": [
    "scatterplot ile petal.length ve petal.width değişkenlerinin dağılımlarını çizdirelim."
   ]
  },
  {
   "cell_type": "code",
   "execution_count": 22,
   "id": "97db5869",
   "metadata": {
    "execution": {
     "iopub.execute_input": "2022-03-29T22:17:56.678301Z",
     "iopub.status.busy": "2022-03-29T22:17:56.677587Z",
     "iopub.status.idle": "2022-03-29T22:17:56.913230Z",
     "shell.execute_reply": "2022-03-29T22:17:56.912719Z",
     "shell.execute_reply.started": "2022-03-29T22:15:00.152723Z"
    },
    "papermill": {
     "duration": 0.324252,
     "end_time": "2022-03-29T22:17:56.913376",
     "exception": false,
     "start_time": "2022-03-29T22:17:56.589124",
     "status": "completed"
    },
    "tags": []
   },
   "outputs": [
    {
     "data": {
      "text/plain": [
       "<AxesSubplot:xlabel='petal_length', ylabel='petal_width'>"
      ]
     },
     "execution_count": 22,
     "metadata": {},
     "output_type": "execute_result"
    },
    {
     "data": {
      "image/png": "[encoded data removed]",
      "text/plain": [
       "<Figure size 432x288 with 1 Axes>"
      ]
     },
     "metadata": {
      "needs_background": "light"
     },
     "output_type": "display_data"
    }
   ],
   "source": [
    "sns.scatterplot(x=\"petal_length\" , y=\"petal_width\" , data=df , color=\"pink\")"
   ]
  },
  {
   "cell_type": "markdown",
   "id": "0b48dc3e",
   "metadata": {
    "papermill": {
     "duration": 0.087035,
     "end_time": "2022-03-29T22:17:57.092043",
     "exception": false,
     "start_time": "2022-03-29T22:17:57.005008",
     "status": "completed"
    },
    "tags": []
   },
   "source": [
    "Aynı görselleştirmeye hue = \"variety\" parametresini ekleyerek 3. bir boyut verelim."
   ]
  },
  {
   "cell_type": "code",
   "execution_count": 23,
   "id": "fd12f0ec",
   "metadata": {
    "execution": {
     "iopub.execute_input": "2022-03-29T22:17:57.270110Z",
     "iopub.status.busy": "2022-03-29T22:17:57.269344Z",
     "iopub.status.idle": "2022-03-29T22:17:57.621036Z",
     "shell.execute_reply": "2022-03-29T22:17:57.620465Z",
     "shell.execute_reply.started": "2022-03-29T22:15:00.389275Z"
    },
    "papermill": {
     "duration": 0.442289,
     "end_time": "2022-03-29T22:17:57.621186",
     "exception": false,
     "start_time": "2022-03-29T22:17:57.178897",
     "status": "completed"
    },
    "tags": []
   },
   "outputs": [
    {
     "data": {
      "text/plain": [
       "<AxesSubplot:xlabel='petal_length', ylabel='petal_width'>"
      ]
     },
     "execution_count": 23,
     "metadata": {},
     "output_type": "execute_result"
    },
    {
     "data": {
      "image/png": "[encoded data removed]",
      "text/plain": [
       "<Figure size 432x288 with 1 Axes>"
      ]
     },
     "metadata": {
      "needs_background": "light"
     },
     "output_type": "display_data"
    }
   ],
   "source": [
    "sns.scatterplot(x=\"petal_length\" , y=\"petal_width\" , data=df , hue=\"species\")"
   ]
  },
  {
   "cell_type": "markdown",
   "id": "2dbf0bcd",
   "metadata": {
    "papermill": {
     "duration": 0.091193,
     "end_time": "2022-03-29T22:17:57.801475",
     "exception": false,
     "start_time": "2022-03-29T22:17:57.710282",
     "status": "completed"
    },
    "tags": []
   },
   "source": [
    "sns.lmplot() görselleştirmesini petal.length ve petal.width değişkenleriyle implemente edelim. Petal length ile petal width arasında ne tür bir ilişki var ve bu ilişki güçlü müdür? sorusunu yanıtlayalım."
   ]
  },
  {
   "cell_type": "code",
   "execution_count": 24,
   "id": "585a09ed",
   "metadata": {
    "execution": {
     "iopub.execute_input": "2022-03-29T22:17:57.984457Z",
     "iopub.status.busy": "2022-03-29T22:17:57.983807Z",
     "iopub.status.idle": "2022-03-29T22:17:58.428591Z",
     "shell.execute_reply": "2022-03-29T22:17:58.428015Z",
     "shell.execute_reply.started": "2022-03-29T22:15:00.744801Z"
    },
    "papermill": {
     "duration": 0.537162,
     "end_time": "2022-03-29T22:17:58.428766",
     "exception": false,
     "start_time": "2022-03-29T22:17:57.891604",
     "status": "completed"
    },
    "tags": []
   },
   "outputs": [
    {
     "data": {
      "text/plain": [
       "<seaborn.axisgrid.FacetGrid at 0x7fa15d7bf8d0>"
      ]
     },
     "execution_count": 24,
     "metadata": {},
     "output_type": "execute_result"
    },
    {
     "data": {
      "image/png": "[encoded data removed]",
      "text/plain": [
       "<Figure size 360x360 with 1 Axes>"
      ]
     },
     "metadata": {
      "needs_background": "light"
     },
     "output_type": "display_data"
    }
   ],
   "source": [
    "sns.lmplot(x=\"petal_length\", y=\"petal_width\",data=df)"
   ]
  },
  {
   "cell_type": "markdown",
   "id": "3997afaa",
   "metadata": {
    "papermill": {
     "duration": 0.089159,
     "end_time": "2022-03-29T22:17:58.607822",
     "exception": false,
     "start_time": "2022-03-29T22:17:58.518663",
     "status": "completed"
    },
    "tags": []
   },
   "source": [
    "Bu sorunun yanıtını pekiştirmek için iki değişken arasında korelasyon katsayısını yazdıralım. "
   ]
  },
  {
   "cell_type": "code",
   "execution_count": 25,
   "id": "7c651674",
   "metadata": {
    "execution": {
     "iopub.execute_input": "2022-03-29T22:17:58.794096Z",
     "iopub.status.busy": "2022-03-29T22:17:58.793380Z",
     "iopub.status.idle": "2022-03-29T22:17:58.796068Z",
     "shell.execute_reply": "2022-03-29T22:17:58.796586Z",
     "shell.execute_reply.started": "2022-03-29T22:15:01.205719Z"
    },
    "papermill": {
     "duration": 0.099359,
     "end_time": "2022-03-29T22:17:58.796765",
     "exception": false,
     "start_time": "2022-03-29T22:17:58.697406",
     "status": "completed"
    },
    "tags": []
   },
   "outputs": [
    {
     "data": {
      "text/plain": [
       "0.9627570970509662"
      ]
     },
     "execution_count": 25,
     "metadata": {},
     "output_type": "execute_result"
    }
   ],
   "source": [
    "df.corr()[\"petal_length\"] [\"petal_width\"]"
   ]
  },
  {
   "cell_type": "markdown",
   "id": "e8b1fd3f",
   "metadata": {
    "papermill": {
     "duration": 0.090079,
     "end_time": "2022-03-29T22:17:58.977647",
     "exception": false,
     "start_time": "2022-03-29T22:17:58.887568",
     "status": "completed"
    },
    "tags": []
   },
   "source": [
    "Petal Length ile Sepal Length değerlerini toplayarak yeni bir total length özniteliği oluşturalım."
   ]
  },
  {
   "cell_type": "code",
   "execution_count": 26,
   "id": "cd44823f",
   "metadata": {
    "execution": {
     "iopub.execute_input": "2022-03-29T22:17:59.161668Z",
     "iopub.status.busy": "2022-03-29T22:17:59.160909Z",
     "iopub.status.idle": "2022-03-29T22:17:59.172111Z",
     "shell.execute_reply": "2022-03-29T22:17:59.171430Z",
     "shell.execute_reply.started": "2022-03-29T22:15:01.219380Z"
    },
    "papermill": {
     "duration": 0.104012,
     "end_time": "2022-03-29T22:17:59.172262",
     "exception": false,
     "start_time": "2022-03-29T22:17:59.068250",
     "status": "completed"
    },
    "tags": []
   },
   "outputs": [
    {
     "data": {
      "text/plain": [
       "0       6.5\n",
       "1       6.3\n",
       "2       6.0\n",
       "3       6.1\n",
       "4       6.4\n",
       "       ... \n",
       "145    11.9\n",
       "146    11.3\n",
       "147    11.7\n",
       "148    11.6\n",
       "149    11.0\n",
       "Name: total_length, Length: 150, dtype: float64"
      ]
     },
     "execution_count": 26,
     "metadata": {},
     "output_type": "execute_result"
    }
   ],
   "source": [
    "df[\"total_length\"]=df[\"petal_length\"]+df[\"sepal_length\"]\n",
    "df[\"total_length\"]"
   ]
  },
  {
   "cell_type": "markdown",
   "id": "c5f119b9",
   "metadata": {
    "papermill": {
     "duration": 0.091742,
     "end_time": "2022-03-29T22:17:59.354957",
     "exception": false,
     "start_time": "2022-03-29T22:17:59.263215",
     "status": "completed"
    },
    "tags": []
   },
   "source": [
    "total.length'in ortalama değerini yazdıralım. "
   ]
  },
  {
   "cell_type": "code",
   "execution_count": 27,
   "id": "b445a12c",
   "metadata": {
    "execution": {
     "iopub.execute_input": "2022-03-29T22:17:59.539171Z",
     "iopub.status.busy": "2022-03-29T22:17:59.538517Z",
     "iopub.status.idle": "2022-03-29T22:17:59.543518Z",
     "shell.execute_reply": "2022-03-29T22:17:59.544201Z",
     "shell.execute_reply.started": "2022-03-29T22:15:01.241347Z"
    },
    "papermill": {
     "duration": 0.098451,
     "end_time": "2022-03-29T22:17:59.544373",
     "exception": false,
     "start_time": "2022-03-29T22:17:59.445922",
     "status": "completed"
    },
    "tags": []
   },
   "outputs": [
    {
     "data": {
      "text/plain": [
       "9.602000000000004"
      ]
     },
     "execution_count": 27,
     "metadata": {},
     "output_type": "execute_result"
    }
   ],
   "source": [
    "df[\"total_length\"].mean()"
   ]
  },
  {
   "cell_type": "markdown",
   "id": "c2dc1a1b",
   "metadata": {
    "papermill": {
     "duration": 0.092271,
     "end_time": "2022-03-29T22:17:59.727267",
     "exception": false,
     "start_time": "2022-03-29T22:17:59.634996",
     "status": "completed"
    },
    "tags": []
   },
   "source": [
    "total.length'in standart sapma değerini yazdıralım."
   ]
  },
  {
   "cell_type": "code",
   "execution_count": 28,
   "id": "3577b2ee",
   "metadata": {
    "execution": {
     "iopub.execute_input": "2022-03-29T22:17:59.911486Z",
     "iopub.status.busy": "2022-03-29T22:17:59.910842Z",
     "iopub.status.idle": "2022-03-29T22:17:59.915819Z",
     "shell.execute_reply": "2022-03-29T22:17:59.916405Z",
     "shell.execute_reply.started": "2022-03-29T22:15:01.259284Z"
    },
    "papermill": {
     "duration": 0.098679,
     "end_time": "2022-03-29T22:17:59.916598",
     "exception": false,
     "start_time": "2022-03-29T22:17:59.817919",
     "status": "completed"
    },
    "tags": []
   },
   "outputs": [
    {
     "data": {
      "text/plain": [
       "2.5191739884121978"
      ]
     },
     "execution_count": 28,
     "metadata": {},
     "output_type": "execute_result"
    }
   ],
   "source": [
    "df[\"total_length\"].std()"
   ]
  },
  {
   "cell_type": "markdown",
   "id": "5775193e",
   "metadata": {
    "papermill": {
     "duration": 0.09124,
     "end_time": "2022-03-29T22:18:00.100400",
     "exception": false,
     "start_time": "2022-03-29T22:18:00.009160",
     "status": "completed"
    },
    "tags": []
   },
   "source": [
    "sepal.length'in maksimum değerini yazdıralım."
   ]
  },
  {
   "cell_type": "code",
   "execution_count": 29,
   "id": "67d0e047",
   "metadata": {
    "execution": {
     "iopub.execute_input": "2022-03-29T22:18:00.292454Z",
     "iopub.status.busy": "2022-03-29T22:18:00.291629Z",
     "iopub.status.idle": "2022-03-29T22:18:00.297179Z",
     "shell.execute_reply": "2022-03-29T22:18:00.297745Z",
     "shell.execute_reply.started": "2022-03-29T22:15:01.272037Z"
    },
    "papermill": {
     "duration": 0.102417,
     "end_time": "2022-03-29T22:18:00.297920",
     "exception": false,
     "start_time": "2022-03-29T22:18:00.195503",
     "status": "completed"
    },
    "tags": []
   },
   "outputs": [
    {
     "data": {
      "text/plain": [
       "7.9"
      ]
     },
     "execution_count": 29,
     "metadata": {},
     "output_type": "execute_result"
    }
   ],
   "source": [
    "df[\"sepal_length\"].max()"
   ]
  },
  {
   "cell_type": "markdown",
   "id": "0933205d",
   "metadata": {
    "papermill": {
     "duration": 0.091162,
     "end_time": "2022-03-29T22:18:00.481874",
     "exception": false,
     "start_time": "2022-03-29T22:18:00.390712",
     "status": "completed"
    },
    "tags": []
   },
   "source": [
    "sepal.length'i 5.5'den büyük ve türü setosa olan gözlemleri yazdıralım."
   ]
  },
  {
   "cell_type": "code",
   "execution_count": 30,
   "id": "1e20f3f4",
   "metadata": {
    "execution": {
     "iopub.execute_input": "2022-03-29T22:18:00.667948Z",
     "iopub.status.busy": "2022-03-29T22:18:00.667145Z",
     "iopub.status.idle": "2022-03-29T22:18:00.681359Z",
     "shell.execute_reply": "2022-03-29T22:18:00.682000Z",
     "shell.execute_reply.started": "2022-03-29T22:15:01.287908Z"
    },
    "papermill": {
     "duration": 0.108858,
     "end_time": "2022-03-29T22:18:00.682180",
     "exception": false,
     "start_time": "2022-03-29T22:18:00.573322",
     "status": "completed"
    },
    "tags": []
   },
   "outputs": [
    {
     "data": {
      "text/html": [
       "<div>\n",
       "<style scoped>\n",
       "    .dataframe tbody tr th:only-of-type {\n",
       "        vertical-align: middle;\n",
       "    }\n",
       "\n",
       "    .dataframe tbody tr th {\n",
       "        vertical-align: top;\n",
       "    }\n",
       "\n",
       "    .dataframe thead th {\n",
       "        text-align: right;\n",
       "    }\n",
       "</style>\n",
       "<table border=\"1\" class=\"dataframe\">\n",
       "  <thead>\n",
       "    <tr style=\"text-align: right;\">\n",
       "      <th></th>\n",
       "      <th>sepal_length</th>\n",
       "      <th>sepal_width</th>\n",
       "      <th>petal_length</th>\n",
       "      <th>petal_width</th>\n",
       "      <th>species</th>\n",
       "      <th>total_length</th>\n",
       "    </tr>\n",
       "  </thead>\n",
       "  <tbody>\n",
       "    <tr>\n",
       "      <th>14</th>\n",
       "      <td>5.8</td>\n",
       "      <td>4.0</td>\n",
       "      <td>1.2</td>\n",
       "      <td>0.2</td>\n",
       "      <td>Iris-setosa</td>\n",
       "      <td>7.0</td>\n",
       "    </tr>\n",
       "    <tr>\n",
       "      <th>15</th>\n",
       "      <td>5.7</td>\n",
       "      <td>4.4</td>\n",
       "      <td>1.5</td>\n",
       "      <td>0.4</td>\n",
       "      <td>Iris-setosa</td>\n",
       "      <td>7.2</td>\n",
       "    </tr>\n",
       "    <tr>\n",
       "      <th>18</th>\n",
       "      <td>5.7</td>\n",
       "      <td>3.8</td>\n",
       "      <td>1.7</td>\n",
       "      <td>0.3</td>\n",
       "      <td>Iris-setosa</td>\n",
       "      <td>7.4</td>\n",
       "    </tr>\n",
       "  </tbody>\n",
       "</table>\n",
       "</div>"
      ],
      "text/plain": [
       "    sepal_length  sepal_width  petal_length  petal_width      species  \\\n",
       "14           5.8          4.0           1.2          0.2  Iris-setosa   \n",
       "15           5.7          4.4           1.5          0.4  Iris-setosa   \n",
       "18           5.7          3.8           1.7          0.3  Iris-setosa   \n",
       "\n",
       "    total_length  \n",
       "14           7.0  \n",
       "15           7.2  \n",
       "18           7.4  "
      ]
     },
     "execution_count": 30,
     "metadata": {},
     "output_type": "execute_result"
    }
   ],
   "source": [
    "df[(df[\"sepal_length\"]>5.5) & (df[\"species\"]==\"Iris-setosa\")]"
   ]
  },
  {
   "cell_type": "markdown",
   "id": "3f4f52a3",
   "metadata": {
    "papermill": {
     "duration": 0.093153,
     "end_time": "2022-03-29T22:18:00.868273",
     "exception": false,
     "start_time": "2022-03-29T22:18:00.775120",
     "status": "completed"
    },
    "tags": []
   },
   "source": [
    "petal.length'i 5'den küçük ve türü virginica olan gözlemlerin sadece sepal.length ve sepal.width değişkenlerini ve değerlerini yazdıralım."
   ]
  },
  {
   "cell_type": "code",
   "execution_count": 31,
   "id": "7c6deeb2",
   "metadata": {
    "execution": {
     "iopub.execute_input": "2022-03-29T22:18:01.060915Z",
     "iopub.status.busy": "2022-03-29T22:18:01.060208Z",
     "iopub.status.idle": "2022-03-29T22:18:01.073890Z",
     "shell.execute_reply": "2022-03-29T22:18:01.074483Z",
     "shell.execute_reply.started": "2022-03-29T22:15:01.310943Z"
    },
    "papermill": {
     "duration": 0.113645,
     "end_time": "2022-03-29T22:18:01.074685",
     "exception": false,
     "start_time": "2022-03-29T22:18:00.961040",
     "status": "completed"
    },
    "tags": []
   },
   "outputs": [
    {
     "data": {
      "text/html": [
       "<div>\n",
       "<style scoped>\n",
       "    .dataframe tbody tr th:only-of-type {\n",
       "        vertical-align: middle;\n",
       "    }\n",
       "\n",
       "    .dataframe tbody tr th {\n",
       "        vertical-align: top;\n",
       "    }\n",
       "\n",
       "    .dataframe thead th {\n",
       "        text-align: right;\n",
       "    }\n",
       "</style>\n",
       "<table border=\"1\" class=\"dataframe\">\n",
       "  <thead>\n",
       "    <tr style=\"text-align: right;\">\n",
       "      <th></th>\n",
       "      <th>sepal_length</th>\n",
       "      <th>sepal_width</th>\n",
       "    </tr>\n",
       "  </thead>\n",
       "  <tbody>\n",
       "    <tr>\n",
       "      <th>106</th>\n",
       "      <td>4.9</td>\n",
       "      <td>2.5</td>\n",
       "    </tr>\n",
       "    <tr>\n",
       "      <th>121</th>\n",
       "      <td>5.6</td>\n",
       "      <td>2.8</td>\n",
       "    </tr>\n",
       "    <tr>\n",
       "      <th>123</th>\n",
       "      <td>6.3</td>\n",
       "      <td>2.7</td>\n",
       "    </tr>\n",
       "    <tr>\n",
       "      <th>126</th>\n",
       "      <td>6.2</td>\n",
       "      <td>2.8</td>\n",
       "    </tr>\n",
       "    <tr>\n",
       "      <th>127</th>\n",
       "      <td>6.1</td>\n",
       "      <td>3.0</td>\n",
       "    </tr>\n",
       "    <tr>\n",
       "      <th>138</th>\n",
       "      <td>6.0</td>\n",
       "      <td>3.0</td>\n",
       "    </tr>\n",
       "  </tbody>\n",
       "</table>\n",
       "</div>"
      ],
      "text/plain": [
       "     sepal_length  sepal_width\n",
       "106           4.9          2.5\n",
       "121           5.6          2.8\n",
       "123           6.3          2.7\n",
       "126           6.2          2.8\n",
       "127           6.1          3.0\n",
       "138           6.0          3.0"
      ]
     },
     "execution_count": 31,
     "metadata": {},
     "output_type": "execute_result"
    }
   ],
   "source": [
    "df_filtered=df.query('petal_length < 5 & species==\"Iris-virginica\"')[[\"sepal_length\",\"sepal_width\"]]\n",
    "df_filtered"
   ]
  },
  {
   "cell_type": "markdown",
   "id": "6c0fcb86",
   "metadata": {
    "papermill": {
     "duration": 0.093904,
     "end_time": "2022-03-29T22:18:01.265130",
     "exception": false,
     "start_time": "2022-03-29T22:18:01.171226",
     "status": "completed"
    },
    "tags": []
   },
   "source": [
    "Hedef değişkenimiz variety'e göre bir gruplama işlemi yapalım değişken değerlerimizin ortalamasını görüntüleyelim."
   ]
  },
  {
   "cell_type": "code",
   "execution_count": 32,
   "id": "90ff5357",
   "metadata": {
    "execution": {
     "iopub.execute_input": "2022-03-29T22:18:01.457877Z",
     "iopub.status.busy": "2022-03-29T22:18:01.457159Z",
     "iopub.status.idle": "2022-03-29T22:18:01.472828Z",
     "shell.execute_reply": "2022-03-29T22:18:01.473446Z",
     "shell.execute_reply.started": "2022-03-29T22:15:01.338511Z"
    },
    "papermill": {
     "duration": 0.112034,
     "end_time": "2022-03-29T22:18:01.473636",
     "exception": false,
     "start_time": "2022-03-29T22:18:01.361602",
     "status": "completed"
    },
    "tags": []
   },
   "outputs": [
    {
     "data": {
      "text/html": [
       "<div>\n",
       "<style scoped>\n",
       "    .dataframe tbody tr th:only-of-type {\n",
       "        vertical-align: middle;\n",
       "    }\n",
       "\n",
       "    .dataframe tbody tr th {\n",
       "        vertical-align: top;\n",
       "    }\n",
       "\n",
       "    .dataframe thead th {\n",
       "        text-align: right;\n",
       "    }\n",
       "</style>\n",
       "<table border=\"1\" class=\"dataframe\">\n",
       "  <thead>\n",
       "    <tr style=\"text-align: right;\">\n",
       "      <th></th>\n",
       "      <th>sepal_length</th>\n",
       "      <th>sepal_width</th>\n",
       "      <th>petal_length</th>\n",
       "      <th>petal_width</th>\n",
       "      <th>total_length</th>\n",
       "    </tr>\n",
       "    <tr>\n",
       "      <th>species</th>\n",
       "      <th></th>\n",
       "      <th></th>\n",
       "      <th></th>\n",
       "      <th></th>\n",
       "      <th></th>\n",
       "    </tr>\n",
       "  </thead>\n",
       "  <tbody>\n",
       "    <tr>\n",
       "      <th>Iris-setosa</th>\n",
       "      <td>5.006</td>\n",
       "      <td>3.418</td>\n",
       "      <td>1.464</td>\n",
       "      <td>0.244</td>\n",
       "      <td>6.470</td>\n",
       "    </tr>\n",
       "    <tr>\n",
       "      <th>Iris-versicolor</th>\n",
       "      <td>5.936</td>\n",
       "      <td>2.770</td>\n",
       "      <td>4.260</td>\n",
       "      <td>1.326</td>\n",
       "      <td>10.196</td>\n",
       "    </tr>\n",
       "    <tr>\n",
       "      <th>Iris-virginica</th>\n",
       "      <td>6.588</td>\n",
       "      <td>2.974</td>\n",
       "      <td>5.552</td>\n",
       "      <td>2.026</td>\n",
       "      <td>12.140</td>\n",
       "    </tr>\n",
       "  </tbody>\n",
       "</table>\n",
       "</div>"
      ],
      "text/plain": [
       "                 sepal_length  sepal_width  petal_length  petal_width  \\\n",
       "species                                                                 \n",
       "Iris-setosa             5.006        3.418         1.464        0.244   \n",
       "Iris-versicolor         5.936        2.770         4.260        1.326   \n",
       "Iris-virginica          6.588        2.974         5.552        2.026   \n",
       "\n",
       "                 total_length  \n",
       "species                        \n",
       "Iris-setosa             6.470  \n",
       "Iris-versicolor        10.196  \n",
       "Iris-virginica         12.140  "
      ]
     },
     "execution_count": 32,
     "metadata": {},
     "output_type": "execute_result"
    }
   ],
   "source": [
    "df.groupby([\"species\"]).mean()"
   ]
  },
  {
   "cell_type": "markdown",
   "id": "d190cec2",
   "metadata": {
    "papermill": {
     "duration": 0.093792,
     "end_time": "2022-03-29T22:18:01.661373",
     "exception": false,
     "start_time": "2022-03-29T22:18:01.567581",
     "status": "completed"
    },
    "tags": []
   },
   "source": [
    "Hedef değişkenimiz variety'e göre gruplama işlemi yaparak sadece petal.length değişkenimizin standart sapma değerlerini yazdıralım. "
   ]
  },
  {
   "cell_type": "code",
   "execution_count": 33,
   "id": "bb3aa9b4",
   "metadata": {
    "execution": {
     "iopub.execute_input": "2022-03-29T22:18:01.853717Z",
     "iopub.status.busy": "2022-03-29T22:18:01.853002Z",
     "iopub.status.idle": "2022-03-29T22:18:01.863017Z",
     "shell.execute_reply": "2022-03-29T22:18:01.863500Z",
     "shell.execute_reply.started": "2022-03-29T22:15:01.359394Z"
    },
    "papermill": {
     "duration": 0.107593,
     "end_time": "2022-03-29T22:18:01.863697",
     "exception": false,
     "start_time": "2022-03-29T22:18:01.756104",
     "status": "completed"
    },
    "tags": []
   },
   "outputs": [
    {
     "data": {
      "text/plain": [
       "species\n",
       "Iris-setosa        0.173511\n",
       "Iris-versicolor    0.469911\n",
       "Iris-virginica     0.551895\n",
       "Name: petal_length, dtype: float64"
      ]
     },
     "execution_count": 33,
     "metadata": {},
     "output_type": "execute_result"
    }
   ],
   "source": [
    "df.groupby([\"species\"])[\"petal_length\"].std()"
   ]
  },
  {
   "cell_type": "markdown",
   "id": "ebc531fa",
   "metadata": {
    "papermill": {
     "duration": 0.097491,
     "end_time": "2022-03-29T22:18:02.056965",
     "exception": false,
     "start_time": "2022-03-29T22:18:01.959474",
     "status": "completed"
    },
    "tags": []
   },
   "source": [
    "Emeğiniz, ayırdığınız vakit ve ilginiz için teşekkürler."
   ]
  },
  {
   "cell_type": "markdown",
   "id": "503389e9",
   "metadata": {
    "papermill": {
     "duration": 0.094923,
     "end_time": "2022-03-29T22:18:02.245718",
     "exception": false,
     "start_time": "2022-03-29T22:18:02.150795",
     "status": "completed"
    },
    "tags": []
   },
   "source": [
    "# BONUS"
   ]
  },
  {
   "cell_type": "markdown",
   "id": "a652e4bf",
   "metadata": {
    "papermill": {
     "duration": 0.099033,
     "end_time": "2022-03-29T22:18:02.438761",
     "exception": false,
     "start_time": "2022-03-29T22:18:02.339728",
     "status": "completed"
    },
    "tags": []
   },
   "source": [
    "Hedef değişkenimizin variety'e göre gruplama işlemi yaparak sepal_length ve petal_length değişkenlerimizin medyan değerlerini bulalım."
   ]
  },
  {
   "cell_type": "code",
   "execution_count": 34,
   "id": "e5e39756",
   "metadata": {
    "execution": {
     "iopub.execute_input": "2022-03-29T22:18:02.639030Z",
     "iopub.status.busy": "2022-03-29T22:18:02.638254Z",
     "iopub.status.idle": "2022-03-29T22:18:02.648509Z",
     "shell.execute_reply": "2022-03-29T22:18:02.649272Z",
     "shell.execute_reply.started": "2022-03-29T22:15:01.379636Z"
    },
    "papermill": {
     "duration": 0.116392,
     "end_time": "2022-03-29T22:18:02.649510",
     "exception": false,
     "start_time": "2022-03-29T22:18:02.533118",
     "status": "completed"
    },
    "tags": []
   },
   "outputs": [
    {
     "name": "stderr",
     "output_type": "stream",
     "text": [
      "/opt/conda/lib/python3.7/site-packages/ipykernel_launcher.py:1: FutureWarning: Indexing with multiple keys (implicitly converted to a tuple of keys) will be deprecated, use a list instead.\n",
      "  \"\"\"Entry point for launching an IPython kernel.\n"
     ]
    },
    {
     "data": {
      "text/html": [
       "<div>\n",
       "<style scoped>\n",
       "    .dataframe tbody tr th:only-of-type {\n",
       "        vertical-align: middle;\n",
       "    }\n",
       "\n",
       "    .dataframe tbody tr th {\n",
       "        vertical-align: top;\n",
       "    }\n",
       "\n",
       "    .dataframe thead th {\n",
       "        text-align: right;\n",
       "    }\n",
       "</style>\n",
       "<table border=\"1\" class=\"dataframe\">\n",
       "  <thead>\n",
       "    <tr style=\"text-align: right;\">\n",
       "      <th></th>\n",
       "      <th>sepal_length</th>\n",
       "      <th>petal_length</th>\n",
       "    </tr>\n",
       "    <tr>\n",
       "      <th>species</th>\n",
       "      <th></th>\n",
       "      <th></th>\n",
       "    </tr>\n",
       "  </thead>\n",
       "  <tbody>\n",
       "    <tr>\n",
       "      <th>Iris-setosa</th>\n",
       "      <td>5.0</td>\n",
       "      <td>1.50</td>\n",
       "    </tr>\n",
       "    <tr>\n",
       "      <th>Iris-versicolor</th>\n",
       "      <td>5.9</td>\n",
       "      <td>4.35</td>\n",
       "    </tr>\n",
       "    <tr>\n",
       "      <th>Iris-virginica</th>\n",
       "      <td>6.5</td>\n",
       "      <td>5.55</td>\n",
       "    </tr>\n",
       "  </tbody>\n",
       "</table>\n",
       "</div>"
      ],
      "text/plain": [
       "                 sepal_length  petal_length\n",
       "species                                    \n",
       "Iris-setosa               5.0          1.50\n",
       "Iris-versicolor           5.9          4.35\n",
       "Iris-virginica            6.5          5.55"
      ]
     },
     "execution_count": 34,
     "metadata": {},
     "output_type": "execute_result"
    }
   ],
   "source": [
    "df.groupby([\"species\"])[\"sepal_length\",\"petal_length\"].median()"
   ]
  },
  {
   "cell_type": "markdown",
   "id": "f1ae50f7",
   "metadata": {
    "papermill": {
     "duration": 0.097802,
     "end_time": "2022-03-29T22:18:02.842719",
     "exception": false,
     "start_time": "2022-03-29T22:18:02.744917",
     "status": "completed"
    },
    "tags": []
   },
   "source": [
    "Sayısal değişkenler arasında kovaryans olup olmadığını göstermek için kovaryans matrisi çizdirelim."
   ]
  },
  {
   "cell_type": "code",
   "execution_count": 35,
   "id": "078b035c",
   "metadata": {
    "execution": {
     "iopub.execute_input": "2022-03-29T22:18:03.039381Z",
     "iopub.status.busy": "2022-03-29T22:18:03.038341Z",
     "iopub.status.idle": "2022-03-29T22:18:03.051697Z",
     "shell.execute_reply": "2022-03-29T22:18:03.051124Z",
     "shell.execute_reply.started": "2022-03-29T22:15:01.404129Z"
    },
    "papermill": {
     "duration": 0.113084,
     "end_time": "2022-03-29T22:18:03.051847",
     "exception": false,
     "start_time": "2022-03-29T22:18:02.938763",
     "status": "completed"
    },
    "tags": []
   },
   "outputs": [
    {
     "data": {
      "text/html": [
       "<div>\n",
       "<style scoped>\n",
       "    .dataframe tbody tr th:only-of-type {\n",
       "        vertical-align: middle;\n",
       "    }\n",
       "\n",
       "    .dataframe tbody tr th {\n",
       "        vertical-align: top;\n",
       "    }\n",
       "\n",
       "    .dataframe thead th {\n",
       "        text-align: right;\n",
       "    }\n",
       "</style>\n",
       "<table border=\"1\" class=\"dataframe\">\n",
       "  <thead>\n",
       "    <tr style=\"text-align: right;\">\n",
       "      <th></th>\n",
       "      <th>sepal_length</th>\n",
       "      <th>sepal_width</th>\n",
       "      <th>petal_length</th>\n",
       "      <th>petal_width</th>\n",
       "      <th>total_length</th>\n",
       "    </tr>\n",
       "  </thead>\n",
       "  <tbody>\n",
       "    <tr>\n",
       "      <th>sepal_length</th>\n",
       "      <td>0.685694</td>\n",
       "      <td>-0.039268</td>\n",
       "      <td>1.273682</td>\n",
       "      <td>0.516904</td>\n",
       "      <td>1.959376</td>\n",
       "    </tr>\n",
       "    <tr>\n",
       "      <th>sepal_width</th>\n",
       "      <td>-0.039268</td>\n",
       "      <td>0.188004</td>\n",
       "      <td>-0.321713</td>\n",
       "      <td>-0.117981</td>\n",
       "      <td>-0.360981</td>\n",
       "    </tr>\n",
       "    <tr>\n",
       "      <th>petal_length</th>\n",
       "      <td>1.273682</td>\n",
       "      <td>-0.321713</td>\n",
       "      <td>3.113179</td>\n",
       "      <td>1.296387</td>\n",
       "      <td>4.386862</td>\n",
       "    </tr>\n",
       "    <tr>\n",
       "      <th>petal_width</th>\n",
       "      <td>0.516904</td>\n",
       "      <td>-0.117981</td>\n",
       "      <td>1.296387</td>\n",
       "      <td>0.582414</td>\n",
       "      <td>1.813291</td>\n",
       "    </tr>\n",
       "    <tr>\n",
       "      <th>total_length</th>\n",
       "      <td>1.959376</td>\n",
       "      <td>-0.360981</td>\n",
       "      <td>4.386862</td>\n",
       "      <td>1.813291</td>\n",
       "      <td>6.346238</td>\n",
       "    </tr>\n",
       "  </tbody>\n",
       "</table>\n",
       "</div>"
      ],
      "text/plain": [
       "              sepal_length  sepal_width  petal_length  petal_width  \\\n",
       "sepal_length      0.685694    -0.039268      1.273682     0.516904   \n",
       "sepal_width      -0.039268     0.188004     -0.321713    -0.117981   \n",
       "petal_length      1.273682    -0.321713      3.113179     1.296387   \n",
       "petal_width       0.516904    -0.117981      1.296387     0.582414   \n",
       "total_length      1.959376    -0.360981      4.386862     1.813291   \n",
       "\n",
       "              total_length  \n",
       "sepal_length      1.959376  \n",
       "sepal_width      -0.360981  \n",
       "petal_length      4.386862  \n",
       "petal_width       1.813291  \n",
       "total_length      6.346238  "
      ]
     },
     "execution_count": 35,
     "metadata": {},
     "output_type": "execute_result"
    }
   ],
   "source": [
    "df.cov()"
   ]
  },
  {
   "cell_type": "markdown",
   "id": "2de78218",
   "metadata": {
    "papermill": {
     "duration": 0.095711,
     "end_time": "2022-03-29T22:18:03.243334",
     "exception": false,
     "start_time": "2022-03-29T22:18:03.147623",
     "status": "completed"
    },
    "tags": []
   },
   "source": [
    "Kovaryans katsayılarını daha iyi okuyabilmek için ısı haritası çizdirelim."
   ]
  },
  {
   "cell_type": "code",
   "execution_count": 36,
   "id": "c8de20b9",
   "metadata": {
    "execution": {
     "iopub.execute_input": "2022-03-29T22:18:03.476624Z",
     "iopub.status.busy": "2022-03-29T22:18:03.443015Z",
     "iopub.status.idle": "2022-03-29T22:18:03.735003Z",
     "shell.execute_reply": "2022-03-29T22:18:03.734289Z",
     "shell.execute_reply.started": "2022-03-29T22:15:01.424314Z"
    },
    "papermill": {
     "duration": 0.395717,
     "end_time": "2022-03-29T22:18:03.735171",
     "exception": false,
     "start_time": "2022-03-29T22:18:03.339454",
     "status": "completed"
    },
    "tags": []
   },
   "outputs": [
    {
     "data": {
      "image/png": "[encoded data removed]",
      "text/plain": [
       "<Figure size 432x288 with 2 Axes>"
      ]
     },
     "metadata": {
      "needs_background": "light"
     },
     "output_type": "display_data"
    }
   ],
   "source": [
    "cov=df.cov()\n",
    "sns.heatmap(cov,\n",
    "           xticklabels=cov.columns.values,\n",
    "           yticklabels=cov.columns.values);"
   ]
  },
  {
   "cell_type": "markdown",
   "id": "b04e01e6",
   "metadata": {
    "papermill": {
     "duration": 0.097968,
     "end_time": "2022-03-29T22:18:03.931858",
     "exception": false,
     "start_time": "2022-03-29T22:18:03.833890",
     "status": "completed"
    },
    "tags": []
   },
   "source": [
    "Veri çerçevesinden rastgele bir gözlem görüntüleyelim."
   ]
  },
  {
   "cell_type": "code",
   "execution_count": 37,
   "id": "72a44328",
   "metadata": {
    "execution": {
     "iopub.execute_input": "2022-03-29T22:18:04.133757Z",
     "iopub.status.busy": "2022-03-29T22:18:04.132981Z",
     "iopub.status.idle": "2022-03-29T22:18:04.144264Z",
     "shell.execute_reply": "2022-03-29T22:18:04.144870Z",
     "shell.execute_reply.started": "2022-03-29T22:15:01.727623Z"
    },
    "papermill": {
     "duration": 0.115237,
     "end_time": "2022-03-29T22:18:04.145047",
     "exception": false,
     "start_time": "2022-03-29T22:18:04.029810",
     "status": "completed"
    },
    "tags": []
   },
   "outputs": [
    {
     "data": {
      "text/html": [
       "<div>\n",
       "<style scoped>\n",
       "    .dataframe tbody tr th:only-of-type {\n",
       "        vertical-align: middle;\n",
       "    }\n",
       "\n",
       "    .dataframe tbody tr th {\n",
       "        vertical-align: top;\n",
       "    }\n",
       "\n",
       "    .dataframe thead th {\n",
       "        text-align: right;\n",
       "    }\n",
       "</style>\n",
       "<table border=\"1\" class=\"dataframe\">\n",
       "  <thead>\n",
       "    <tr style=\"text-align: right;\">\n",
       "      <th></th>\n",
       "      <th>sepal_length</th>\n",
       "      <th>sepal_width</th>\n",
       "      <th>petal_length</th>\n",
       "      <th>petal_width</th>\n",
       "      <th>species</th>\n",
       "      <th>total_length</th>\n",
       "    </tr>\n",
       "  </thead>\n",
       "  <tbody>\n",
       "    <tr>\n",
       "      <th>146</th>\n",
       "      <td>6.3</td>\n",
       "      <td>2.5</td>\n",
       "      <td>5.0</td>\n",
       "      <td>1.9</td>\n",
       "      <td>Iris-virginica</td>\n",
       "      <td>11.3</td>\n",
       "    </tr>\n",
       "  </tbody>\n",
       "</table>\n",
       "</div>"
      ],
      "text/plain": [
       "     sepal_length  sepal_width  petal_length  petal_width         species  \\\n",
       "146           6.3          2.5           5.0          1.9  Iris-virginica   \n",
       "\n",
       "     total_length  \n",
       "146          11.3  "
      ]
     },
     "execution_count": 37,
     "metadata": {},
     "output_type": "execute_result"
    }
   ],
   "source": [
    "df.sample()"
   ]
  },
  {
   "cell_type": "markdown",
   "id": "f666ed3c",
   "metadata": {
    "papermill": {
     "duration": 0.09787,
     "end_time": "2022-03-29T22:18:04.342933",
     "exception": false,
     "start_time": "2022-03-29T22:18:04.245063",
     "status": "completed"
    },
    "tags": []
   },
   "source": [
    "Veri çerçevesinin son 3 gözlemini görüntüleyelim."
   ]
  },
  {
   "cell_type": "code",
   "execution_count": 38,
   "id": "fa4a4d96",
   "metadata": {
    "execution": {
     "iopub.execute_input": "2022-03-29T22:18:04.540310Z",
     "iopub.status.busy": "2022-03-29T22:18:04.539522Z",
     "iopub.status.idle": "2022-03-29T22:18:04.551604Z",
     "shell.execute_reply": "2022-03-29T22:18:04.552086Z",
     "shell.execute_reply.started": "2022-03-29T22:15:01.742963Z"
    },
    "papermill": {
     "duration": 0.112874,
     "end_time": "2022-03-29T22:18:04.552268",
     "exception": false,
     "start_time": "2022-03-29T22:18:04.439394",
     "status": "completed"
    },
    "tags": []
   },
   "outputs": [
    {
     "data": {
      "text/html": [
       "<div>\n",
       "<style scoped>\n",
       "    .dataframe tbody tr th:only-of-type {\n",
       "        vertical-align: middle;\n",
       "    }\n",
       "\n",
       "    .dataframe tbody tr th {\n",
       "        vertical-align: top;\n",
       "    }\n",
       "\n",
       "    .dataframe thead th {\n",
       "        text-align: right;\n",
       "    }\n",
       "</style>\n",
       "<table border=\"1\" class=\"dataframe\">\n",
       "  <thead>\n",
       "    <tr style=\"text-align: right;\">\n",
       "      <th></th>\n",
       "      <th>sepal_length</th>\n",
       "      <th>sepal_width</th>\n",
       "      <th>petal_length</th>\n",
       "      <th>petal_width</th>\n",
       "      <th>species</th>\n",
       "      <th>total_length</th>\n",
       "    </tr>\n",
       "  </thead>\n",
       "  <tbody>\n",
       "    <tr>\n",
       "      <th>147</th>\n",
       "      <td>6.5</td>\n",
       "      <td>3.0</td>\n",
       "      <td>5.2</td>\n",
       "      <td>2.0</td>\n",
       "      <td>Iris-virginica</td>\n",
       "      <td>11.7</td>\n",
       "    </tr>\n",
       "    <tr>\n",
       "      <th>148</th>\n",
       "      <td>6.2</td>\n",
       "      <td>3.4</td>\n",
       "      <td>5.4</td>\n",
       "      <td>2.3</td>\n",
       "      <td>Iris-virginica</td>\n",
       "      <td>11.6</td>\n",
       "    </tr>\n",
       "    <tr>\n",
       "      <th>149</th>\n",
       "      <td>5.9</td>\n",
       "      <td>3.0</td>\n",
       "      <td>5.1</td>\n",
       "      <td>1.8</td>\n",
       "      <td>Iris-virginica</td>\n",
       "      <td>11.0</td>\n",
       "    </tr>\n",
       "  </tbody>\n",
       "</table>\n",
       "</div>"
      ],
      "text/plain": [
       "     sepal_length  sepal_width  petal_length  petal_width         species  \\\n",
       "147           6.5          3.0           5.2          2.0  Iris-virginica   \n",
       "148           6.2          3.4           5.4          2.3  Iris-virginica   \n",
       "149           5.9          3.0           5.1          1.8  Iris-virginica   \n",
       "\n",
       "     total_length  \n",
       "147          11.7  \n",
       "148          11.6  \n",
       "149          11.0  "
      ]
     },
     "execution_count": 38,
     "metadata": {},
     "output_type": "execute_result"
    }
   ],
   "source": [
    "df.tail(3)"
   ]
  },
  {
   "cell_type": "markdown",
   "id": "76afa7bc",
   "metadata": {
    "papermill": {
     "duration": 0.097879,
     "end_time": "2022-03-29T22:18:04.748366",
     "exception": false,
     "start_time": "2022-03-29T22:18:04.650487",
     "status": "completed"
    },
    "tags": []
   },
   "source": [
    "sepal_length değişkeninin diğer değişkenlerle arasındaki korelasyon katsayılarını gösterelim."
   ]
  },
  {
   "cell_type": "code",
   "execution_count": 39,
   "id": "6fe180a1",
   "metadata": {
    "execution": {
     "iopub.execute_input": "2022-03-29T22:18:04.950629Z",
     "iopub.status.busy": "2022-03-29T22:18:04.949932Z",
     "iopub.status.idle": "2022-03-29T22:18:04.959098Z",
     "shell.execute_reply": "2022-03-29T22:18:04.958471Z",
     "shell.execute_reply.started": "2022-03-29T22:15:01.769869Z"
    },
    "papermill": {
     "duration": 0.114005,
     "end_time": "2022-03-29T22:18:04.959241",
     "exception": false,
     "start_time": "2022-03-29T22:18:04.845236",
     "status": "completed"
    },
    "tags": []
   },
   "outputs": [
    {
     "data": {
      "text/plain": [
       "sepal_length    1.000000\n",
       "total_length    0.939279\n",
       "petal_length    0.871754\n",
       "petal_width     0.817954\n",
       "sepal_width    -0.109369\n",
       "Name: sepal_length, dtype: float64"
      ]
     },
     "execution_count": 39,
     "metadata": {},
     "output_type": "execute_result"
    }
   ],
   "source": [
    "corr2=df.corr().sepal_length.sort_values(ascending=False).index[0:5]\n",
    "df[corr2].corr().sepal_length"
   ]
  },
  {
   "cell_type": "markdown",
   "id": "99f152b5",
   "metadata": {
    "papermill": {
     "duration": 0.101378,
     "end_time": "2022-03-29T22:18:05.163977",
     "exception": false,
     "start_time": "2022-03-29T22:18:05.062599",
     "status": "completed"
    },
    "tags": []
   },
   "source": [
    "sepal_width değişkeninin diğer değişkenlerle arasındaki kovaryans katsayılarını gösterelim.\n"
   ]
  },
  {
   "cell_type": "code",
   "execution_count": 40,
   "id": "7e6bf6d0",
   "metadata": {
    "execution": {
     "iopub.execute_input": "2022-03-29T22:18:05.367816Z",
     "iopub.status.busy": "2022-03-29T22:18:05.367128Z",
     "iopub.status.idle": "2022-03-29T22:18:05.375962Z",
     "shell.execute_reply": "2022-03-29T22:18:05.375309Z",
     "shell.execute_reply.started": "2022-03-29T22:15:01.786041Z"
    },
    "papermill": {
     "duration": 0.112549,
     "end_time": "2022-03-29T22:18:05.376105",
     "exception": false,
     "start_time": "2022-03-29T22:18:05.263556",
     "status": "completed"
    },
    "tags": []
   },
   "outputs": [
    {
     "data": {
      "text/plain": [
       "sepal_width     0.188004\n",
       "sepal_length   -0.039268\n",
       "petal_width    -0.117981\n",
       "petal_length   -0.321713\n",
       "total_length   -0.360981\n",
       "Name: sepal_width, dtype: float64"
      ]
     },
     "execution_count": 40,
     "metadata": {},
     "output_type": "execute_result"
    }
   ],
   "source": [
    "cov2=df.cov().sepal_width.sort_values(ascending=False).index[0:5]\n",
    "df[cov2].cov().sepal_width"
   ]
  },
  {
   "cell_type": "markdown",
   "id": "91271d56",
   "metadata": {
    "papermill": {
     "duration": 0.097609,
     "end_time": "2022-03-29T22:18:05.573353",
     "exception": false,
     "start_time": "2022-03-29T22:18:05.475744",
     "status": "completed"
    },
    "tags": []
   },
   "source": [
    "petal_length değişkeninin 0 ila 3 arasında olduğu değerleri filtreleyim."
   ]
  },
  {
   "cell_type": "code",
   "execution_count": 41,
   "id": "b19626d9",
   "metadata": {
    "execution": {
     "iopub.execute_input": "2022-03-29T22:18:05.771947Z",
     "iopub.status.busy": "2022-03-29T22:18:05.771246Z",
     "iopub.status.idle": "2022-03-29T22:18:05.811791Z",
     "shell.execute_reply": "2022-03-29T22:18:05.812352Z",
     "shell.execute_reply.started": "2022-03-29T22:15:01.801570Z"
    },
    "papermill": {
     "duration": 0.141381,
     "end_time": "2022-03-29T22:18:05.812530",
     "exception": false,
     "start_time": "2022-03-29T22:18:05.671149",
     "status": "completed"
    },
    "tags": []
   },
   "outputs": [
    {
     "data": {
      "text/html": [
       "<div>\n",
       "<style scoped>\n",
       "    .dataframe tbody tr th:only-of-type {\n",
       "        vertical-align: middle;\n",
       "    }\n",
       "\n",
       "    .dataframe tbody tr th {\n",
       "        vertical-align: top;\n",
       "    }\n",
       "\n",
       "    .dataframe thead th {\n",
       "        text-align: right;\n",
       "    }\n",
       "</style>\n",
       "<table border=\"1\" class=\"dataframe\">\n",
       "  <thead>\n",
       "    <tr style=\"text-align: right;\">\n",
       "      <th></th>\n",
       "      <th>sepal_length</th>\n",
       "      <th>sepal_width</th>\n",
       "      <th>petal_length</th>\n",
       "      <th>petal_width</th>\n",
       "      <th>species</th>\n",
       "      <th>total_length</th>\n",
       "    </tr>\n",
       "  </thead>\n",
       "  <tbody>\n",
       "    <tr>\n",
       "      <th>0</th>\n",
       "      <td>5.1</td>\n",
       "      <td>3.5</td>\n",
       "      <td>1.4</td>\n",
       "      <td>0.2</td>\n",
       "      <td>Iris-setosa</td>\n",
       "      <td>6.5</td>\n",
       "    </tr>\n",
       "    <tr>\n",
       "      <th>1</th>\n",
       "      <td>4.9</td>\n",
       "      <td>3.0</td>\n",
       "      <td>1.4</td>\n",
       "      <td>0.2</td>\n",
       "      <td>Iris-setosa</td>\n",
       "      <td>6.3</td>\n",
       "    </tr>\n",
       "    <tr>\n",
       "      <th>2</th>\n",
       "      <td>4.7</td>\n",
       "      <td>3.2</td>\n",
       "      <td>1.3</td>\n",
       "      <td>0.2</td>\n",
       "      <td>Iris-setosa</td>\n",
       "      <td>6.0</td>\n",
       "    </tr>\n",
       "    <tr>\n",
       "      <th>3</th>\n",
       "      <td>4.6</td>\n",
       "      <td>3.1</td>\n",
       "      <td>1.5</td>\n",
       "      <td>0.2</td>\n",
       "      <td>Iris-setosa</td>\n",
       "      <td>6.1</td>\n",
       "    </tr>\n",
       "    <tr>\n",
       "      <th>4</th>\n",
       "      <td>5.0</td>\n",
       "      <td>3.6</td>\n",
       "      <td>1.4</td>\n",
       "      <td>0.2</td>\n",
       "      <td>Iris-setosa</td>\n",
       "      <td>6.4</td>\n",
       "    </tr>\n",
       "    <tr>\n",
       "      <th>5</th>\n",
       "      <td>5.4</td>\n",
       "      <td>3.9</td>\n",
       "      <td>1.7</td>\n",
       "      <td>0.4</td>\n",
       "      <td>Iris-setosa</td>\n",
       "      <td>7.1</td>\n",
       "    </tr>\n",
       "    <tr>\n",
       "      <th>6</th>\n",
       "      <td>4.6</td>\n",
       "      <td>3.4</td>\n",
       "      <td>1.4</td>\n",
       "      <td>0.3</td>\n",
       "      <td>Iris-setosa</td>\n",
       "      <td>6.0</td>\n",
       "    </tr>\n",
       "    <tr>\n",
       "      <th>7</th>\n",
       "      <td>5.0</td>\n",
       "      <td>3.4</td>\n",
       "      <td>1.5</td>\n",
       "      <td>0.2</td>\n",
       "      <td>Iris-setosa</td>\n",
       "      <td>6.5</td>\n",
       "    </tr>\n",
       "    <tr>\n",
       "      <th>8</th>\n",
       "      <td>4.4</td>\n",
       "      <td>2.9</td>\n",
       "      <td>1.4</td>\n",
       "      <td>0.2</td>\n",
       "      <td>Iris-setosa</td>\n",
       "      <td>5.8</td>\n",
       "    </tr>\n",
       "    <tr>\n",
       "      <th>9</th>\n",
       "      <td>4.9</td>\n",
       "      <td>3.1</td>\n",
       "      <td>1.5</td>\n",
       "      <td>0.1</td>\n",
       "      <td>Iris-setosa</td>\n",
       "      <td>6.4</td>\n",
       "    </tr>\n",
       "    <tr>\n",
       "      <th>10</th>\n",
       "      <td>5.4</td>\n",
       "      <td>3.7</td>\n",
       "      <td>1.5</td>\n",
       "      <td>0.2</td>\n",
       "      <td>Iris-setosa</td>\n",
       "      <td>6.9</td>\n",
       "    </tr>\n",
       "    <tr>\n",
       "      <th>11</th>\n",
       "      <td>4.8</td>\n",
       "      <td>3.4</td>\n",
       "      <td>1.6</td>\n",
       "      <td>0.2</td>\n",
       "      <td>Iris-setosa</td>\n",
       "      <td>6.4</td>\n",
       "    </tr>\n",
       "    <tr>\n",
       "      <th>12</th>\n",
       "      <td>4.8</td>\n",
       "      <td>3.0</td>\n",
       "      <td>1.4</td>\n",
       "      <td>0.1</td>\n",
       "      <td>Iris-setosa</td>\n",
       "      <td>6.2</td>\n",
       "    </tr>\n",
       "    <tr>\n",
       "      <th>13</th>\n",
       "      <td>4.3</td>\n",
       "      <td>3.0</td>\n",
       "      <td>1.1</td>\n",
       "      <td>0.1</td>\n",
       "      <td>Iris-setosa</td>\n",
       "      <td>5.4</td>\n",
       "    </tr>\n",
       "    <tr>\n",
       "      <th>14</th>\n",
       "      <td>5.8</td>\n",
       "      <td>4.0</td>\n",
       "      <td>1.2</td>\n",
       "      <td>0.2</td>\n",
       "      <td>Iris-setosa</td>\n",
       "      <td>7.0</td>\n",
       "    </tr>\n",
       "    <tr>\n",
       "      <th>15</th>\n",
       "      <td>5.7</td>\n",
       "      <td>4.4</td>\n",
       "      <td>1.5</td>\n",
       "      <td>0.4</td>\n",
       "      <td>Iris-setosa</td>\n",
       "      <td>7.2</td>\n",
       "    </tr>\n",
       "    <tr>\n",
       "      <th>16</th>\n",
       "      <td>5.4</td>\n",
       "      <td>3.9</td>\n",
       "      <td>1.3</td>\n",
       "      <td>0.4</td>\n",
       "      <td>Iris-setosa</td>\n",
       "      <td>6.7</td>\n",
       "    </tr>\n",
       "    <tr>\n",
       "      <th>17</th>\n",
       "      <td>5.1</td>\n",
       "      <td>3.5</td>\n",
       "      <td>1.4</td>\n",
       "      <td>0.3</td>\n",
       "      <td>Iris-setosa</td>\n",
       "      <td>6.5</td>\n",
       "    </tr>\n",
       "    <tr>\n",
       "      <th>18</th>\n",
       "      <td>5.7</td>\n",
       "      <td>3.8</td>\n",
       "      <td>1.7</td>\n",
       "      <td>0.3</td>\n",
       "      <td>Iris-setosa</td>\n",
       "      <td>7.4</td>\n",
       "    </tr>\n",
       "    <tr>\n",
       "      <th>19</th>\n",
       "      <td>5.1</td>\n",
       "      <td>3.8</td>\n",
       "      <td>1.5</td>\n",
       "      <td>0.3</td>\n",
       "      <td>Iris-setosa</td>\n",
       "      <td>6.6</td>\n",
       "    </tr>\n",
       "    <tr>\n",
       "      <th>20</th>\n",
       "      <td>5.4</td>\n",
       "      <td>3.4</td>\n",
       "      <td>1.7</td>\n",
       "      <td>0.2</td>\n",
       "      <td>Iris-setosa</td>\n",
       "      <td>7.1</td>\n",
       "    </tr>\n",
       "    <tr>\n",
       "      <th>21</th>\n",
       "      <td>5.1</td>\n",
       "      <td>3.7</td>\n",
       "      <td>1.5</td>\n",
       "      <td>0.4</td>\n",
       "      <td>Iris-setosa</td>\n",
       "      <td>6.6</td>\n",
       "    </tr>\n",
       "    <tr>\n",
       "      <th>22</th>\n",
       "      <td>4.6</td>\n",
       "      <td>3.6</td>\n",
       "      <td>1.0</td>\n",
       "      <td>0.2</td>\n",
       "      <td>Iris-setosa</td>\n",
       "      <td>5.6</td>\n",
       "    </tr>\n",
       "    <tr>\n",
       "      <th>23</th>\n",
       "      <td>5.1</td>\n",
       "      <td>3.3</td>\n",
       "      <td>1.7</td>\n",
       "      <td>0.5</td>\n",
       "      <td>Iris-setosa</td>\n",
       "      <td>6.8</td>\n",
       "    </tr>\n",
       "    <tr>\n",
       "      <th>24</th>\n",
       "      <td>4.8</td>\n",
       "      <td>3.4</td>\n",
       "      <td>1.9</td>\n",
       "      <td>0.2</td>\n",
       "      <td>Iris-setosa</td>\n",
       "      <td>6.7</td>\n",
       "    </tr>\n",
       "    <tr>\n",
       "      <th>25</th>\n",
       "      <td>5.0</td>\n",
       "      <td>3.0</td>\n",
       "      <td>1.6</td>\n",
       "      <td>0.2</td>\n",
       "      <td>Iris-setosa</td>\n",
       "      <td>6.6</td>\n",
       "    </tr>\n",
       "    <tr>\n",
       "      <th>26</th>\n",
       "      <td>5.0</td>\n",
       "      <td>3.4</td>\n",
       "      <td>1.6</td>\n",
       "      <td>0.4</td>\n",
       "      <td>Iris-setosa</td>\n",
       "      <td>6.6</td>\n",
       "    </tr>\n",
       "    <tr>\n",
       "      <th>27</th>\n",
       "      <td>5.2</td>\n",
       "      <td>3.5</td>\n",
       "      <td>1.5</td>\n",
       "      <td>0.2</td>\n",
       "      <td>Iris-setosa</td>\n",
       "      <td>6.7</td>\n",
       "    </tr>\n",
       "    <tr>\n",
       "      <th>28</th>\n",
       "      <td>5.2</td>\n",
       "      <td>3.4</td>\n",
       "      <td>1.4</td>\n",
       "      <td>0.2</td>\n",
       "      <td>Iris-setosa</td>\n",
       "      <td>6.6</td>\n",
       "    </tr>\n",
       "    <tr>\n",
       "      <th>29</th>\n",
       "      <td>4.7</td>\n",
       "      <td>3.2</td>\n",
       "      <td>1.6</td>\n",
       "      <td>0.2</td>\n",
       "      <td>Iris-setosa</td>\n",
       "      <td>6.3</td>\n",
       "    </tr>\n",
       "    <tr>\n",
       "      <th>30</th>\n",
       "      <td>4.8</td>\n",
       "      <td>3.1</td>\n",
       "      <td>1.6</td>\n",
       "      <td>0.2</td>\n",
       "      <td>Iris-setosa</td>\n",
       "      <td>6.4</td>\n",
       "    </tr>\n",
       "    <tr>\n",
       "      <th>31</th>\n",
       "      <td>5.4</td>\n",
       "      <td>3.4</td>\n",
       "      <td>1.5</td>\n",
       "      <td>0.4</td>\n",
       "      <td>Iris-setosa</td>\n",
       "      <td>6.9</td>\n",
       "    </tr>\n",
       "    <tr>\n",
       "      <th>32</th>\n",
       "      <td>5.2</td>\n",
       "      <td>4.1</td>\n",
       "      <td>1.5</td>\n",
       "      <td>0.1</td>\n",
       "      <td>Iris-setosa</td>\n",
       "      <td>6.7</td>\n",
       "    </tr>\n",
       "    <tr>\n",
       "      <th>33</th>\n",
       "      <td>5.5</td>\n",
       "      <td>4.2</td>\n",
       "      <td>1.4</td>\n",
       "      <td>0.2</td>\n",
       "      <td>Iris-setosa</td>\n",
       "      <td>6.9</td>\n",
       "    </tr>\n",
       "    <tr>\n",
       "      <th>34</th>\n",
       "      <td>4.9</td>\n",
       "      <td>3.1</td>\n",
       "      <td>1.5</td>\n",
       "      <td>0.1</td>\n",
       "      <td>Iris-setosa</td>\n",
       "      <td>6.4</td>\n",
       "    </tr>\n",
       "    <tr>\n",
       "      <th>35</th>\n",
       "      <td>5.0</td>\n",
       "      <td>3.2</td>\n",
       "      <td>1.2</td>\n",
       "      <td>0.2</td>\n",
       "      <td>Iris-setosa</td>\n",
       "      <td>6.2</td>\n",
       "    </tr>\n",
       "    <tr>\n",
       "      <th>36</th>\n",
       "      <td>5.5</td>\n",
       "      <td>3.5</td>\n",
       "      <td>1.3</td>\n",
       "      <td>0.2</td>\n",
       "      <td>Iris-setosa</td>\n",
       "      <td>6.8</td>\n",
       "    </tr>\n",
       "    <tr>\n",
       "      <th>37</th>\n",
       "      <td>4.9</td>\n",
       "      <td>3.1</td>\n",
       "      <td>1.5</td>\n",
       "      <td>0.1</td>\n",
       "      <td>Iris-setosa</td>\n",
       "      <td>6.4</td>\n",
       "    </tr>\n",
       "    <tr>\n",
       "      <th>38</th>\n",
       "      <td>4.4</td>\n",
       "      <td>3.0</td>\n",
       "      <td>1.3</td>\n",
       "      <td>0.2</td>\n",
       "      <td>Iris-setosa</td>\n",
       "      <td>5.7</td>\n",
       "    </tr>\n",
       "    <tr>\n",
       "      <th>39</th>\n",
       "      <td>5.1</td>\n",
       "      <td>3.4</td>\n",
       "      <td>1.5</td>\n",
       "      <td>0.2</td>\n",
       "      <td>Iris-setosa</td>\n",
       "      <td>6.6</td>\n",
       "    </tr>\n",
       "    <tr>\n",
       "      <th>40</th>\n",
       "      <td>5.0</td>\n",
       "      <td>3.5</td>\n",
       "      <td>1.3</td>\n",
       "      <td>0.3</td>\n",
       "      <td>Iris-setosa</td>\n",
       "      <td>6.3</td>\n",
       "    </tr>\n",
       "    <tr>\n",
       "      <th>41</th>\n",
       "      <td>4.5</td>\n",
       "      <td>2.3</td>\n",
       "      <td>1.3</td>\n",
       "      <td>0.3</td>\n",
       "      <td>Iris-setosa</td>\n",
       "      <td>5.8</td>\n",
       "    </tr>\n",
       "    <tr>\n",
       "      <th>42</th>\n",
       "      <td>4.4</td>\n",
       "      <td>3.2</td>\n",
       "      <td>1.3</td>\n",
       "      <td>0.2</td>\n",
       "      <td>Iris-setosa</td>\n",
       "      <td>5.7</td>\n",
       "    </tr>\n",
       "    <tr>\n",
       "      <th>43</th>\n",
       "      <td>5.0</td>\n",
       "      <td>3.5</td>\n",
       "      <td>1.6</td>\n",
       "      <td>0.6</td>\n",
       "      <td>Iris-setosa</td>\n",
       "      <td>6.6</td>\n",
       "    </tr>\n",
       "    <tr>\n",
       "      <th>44</th>\n",
       "      <td>5.1</td>\n",
       "      <td>3.8</td>\n",
       "      <td>1.9</td>\n",
       "      <td>0.4</td>\n",
       "      <td>Iris-setosa</td>\n",
       "      <td>7.0</td>\n",
       "    </tr>\n",
       "    <tr>\n",
       "      <th>45</th>\n",
       "      <td>4.8</td>\n",
       "      <td>3.0</td>\n",
       "      <td>1.4</td>\n",
       "      <td>0.3</td>\n",
       "      <td>Iris-setosa</td>\n",
       "      <td>6.2</td>\n",
       "    </tr>\n",
       "    <tr>\n",
       "      <th>46</th>\n",
       "      <td>5.1</td>\n",
       "      <td>3.8</td>\n",
       "      <td>1.6</td>\n",
       "      <td>0.2</td>\n",
       "      <td>Iris-setosa</td>\n",
       "      <td>6.7</td>\n",
       "    </tr>\n",
       "    <tr>\n",
       "      <th>47</th>\n",
       "      <td>4.6</td>\n",
       "      <td>3.2</td>\n",
       "      <td>1.4</td>\n",
       "      <td>0.2</td>\n",
       "      <td>Iris-setosa</td>\n",
       "      <td>6.0</td>\n",
       "    </tr>\n",
       "    <tr>\n",
       "      <th>48</th>\n",
       "      <td>5.3</td>\n",
       "      <td>3.7</td>\n",
       "      <td>1.5</td>\n",
       "      <td>0.2</td>\n",
       "      <td>Iris-setosa</td>\n",
       "      <td>6.8</td>\n",
       "    </tr>\n",
       "    <tr>\n",
       "      <th>49</th>\n",
       "      <td>5.0</td>\n",
       "      <td>3.3</td>\n",
       "      <td>1.4</td>\n",
       "      <td>0.2</td>\n",
       "      <td>Iris-setosa</td>\n",
       "      <td>6.4</td>\n",
       "    </tr>\n",
       "    <tr>\n",
       "      <th>98</th>\n",
       "      <td>5.1</td>\n",
       "      <td>2.5</td>\n",
       "      <td>3.0</td>\n",
       "      <td>1.1</td>\n",
       "      <td>Iris-versicolor</td>\n",
       "      <td>8.1</td>\n",
       "    </tr>\n",
       "  </tbody>\n",
       "</table>\n",
       "</div>"
      ],
      "text/plain": [
       "    sepal_length  sepal_width  petal_length  petal_width          species  \\\n",
       "0            5.1          3.5           1.4          0.2      Iris-setosa   \n",
       "1            4.9          3.0           1.4          0.2      Iris-setosa   \n",
       "2            4.7          3.2           1.3          0.2      Iris-setosa   \n",
       "3            4.6          3.1           1.5          0.2      Iris-setosa   \n",
       "4            5.0          3.6           1.4          0.2      Iris-setosa   \n",
       "5            5.4          3.9           1.7          0.4      Iris-setosa   \n",
       "6            4.6          3.4           1.4          0.3      Iris-setosa   \n",
       "7            5.0          3.4           1.5          0.2      Iris-setosa   \n",
       "8            4.4          2.9           1.4          0.2      Iris-setosa   \n",
       "9            4.9          3.1           1.5          0.1      Iris-setosa   \n",
       "10           5.4          3.7           1.5          0.2      Iris-setosa   \n",
       "11           4.8          3.4           1.6          0.2      Iris-setosa   \n",
       "12           4.8          3.0           1.4          0.1      Iris-setosa   \n",
       "13           4.3          3.0           1.1          0.1      Iris-setosa   \n",
       "14           5.8          4.0           1.2          0.2      Iris-setosa   \n",
       "15           5.7          4.4           1.5          0.4      Iris-setosa   \n",
       "16           5.4          3.9           1.3          0.4      Iris-setosa   \n",
       "17           5.1          3.5           1.4          0.3      Iris-setosa   \n",
       "18           5.7          3.8           1.7          0.3      Iris-setosa   \n",
       "19           5.1          3.8           1.5          0.3      Iris-setosa   \n",
       "20           5.4          3.4           1.7          0.2      Iris-setosa   \n",
       "21           5.1          3.7           1.5          0.4      Iris-setosa   \n",
       "22           4.6          3.6           1.0          0.2      Iris-setosa   \n",
       "23           5.1          3.3           1.7          0.5      Iris-setosa   \n",
       "24           4.8          3.4           1.9          0.2      Iris-setosa   \n",
       "25           5.0          3.0           1.6          0.2      Iris-setosa   \n",
       "26           5.0          3.4           1.6          0.4      Iris-setosa   \n",
       "27           5.2          3.5           1.5          0.2      Iris-setosa   \n",
       "28           5.2          3.4           1.4          0.2      Iris-setosa   \n",
       "29           4.7          3.2           1.6          0.2      Iris-setosa   \n",
       "30           4.8          3.1           1.6          0.2      Iris-setosa   \n",
       "31           5.4          3.4           1.5          0.4      Iris-setosa   \n",
       "32           5.2          4.1           1.5          0.1      Iris-setosa   \n",
       "33           5.5          4.2           1.4          0.2      Iris-setosa   \n",
       "34           4.9          3.1           1.5          0.1      Iris-setosa   \n",
       "35           5.0          3.2           1.2          0.2      Iris-setosa   \n",
       "36           5.5          3.5           1.3          0.2      Iris-setosa   \n",
       "37           4.9          3.1           1.5          0.1      Iris-setosa   \n",
       "38           4.4          3.0           1.3          0.2      Iris-setosa   \n",
       "39           5.1          3.4           1.5          0.2      Iris-setosa   \n",
       "40           5.0          3.5           1.3          0.3      Iris-setosa   \n",
       "41           4.5          2.3           1.3          0.3      Iris-setosa   \n",
       "42           4.4          3.2           1.3          0.2      Iris-setosa   \n",
       "43           5.0          3.5           1.6          0.6      Iris-setosa   \n",
       "44           5.1          3.8           1.9          0.4      Iris-setosa   \n",
       "45           4.8          3.0           1.4          0.3      Iris-setosa   \n",
       "46           5.1          3.8           1.6          0.2      Iris-setosa   \n",
       "47           4.6          3.2           1.4          0.2      Iris-setosa   \n",
       "48           5.3          3.7           1.5          0.2      Iris-setosa   \n",
       "49           5.0          3.3           1.4          0.2      Iris-setosa   \n",
       "98           5.1          2.5           3.0          1.1  Iris-versicolor   \n",
       "\n",
       "    total_length  \n",
       "0            6.5  \n",
       "1            6.3  \n",
       "2            6.0  \n",
       "3            6.1  \n",
       "4            6.4  \n",
       "5            7.1  \n",
       "6            6.0  \n",
       "7            6.5  \n",
       "8            5.8  \n",
       "9            6.4  \n",
       "10           6.9  \n",
       "11           6.4  \n",
       "12           6.2  \n",
       "13           5.4  \n",
       "14           7.0  \n",
       "15           7.2  \n",
       "16           6.7  \n",
       "17           6.5  \n",
       "18           7.4  \n",
       "19           6.6  \n",
       "20           7.1  \n",
       "21           6.6  \n",
       "22           5.6  \n",
       "23           6.8  \n",
       "24           6.7  \n",
       "25           6.6  \n",
       "26           6.6  \n",
       "27           6.7  \n",
       "28           6.6  \n",
       "29           6.3  \n",
       "30           6.4  \n",
       "31           6.9  \n",
       "32           6.7  \n",
       "33           6.9  \n",
       "34           6.4  \n",
       "35           6.2  \n",
       "36           6.8  \n",
       "37           6.4  \n",
       "38           5.7  \n",
       "39           6.6  \n",
       "40           6.3  \n",
       "41           5.8  \n",
       "42           5.7  \n",
       "43           6.6  \n",
       "44           7.0  \n",
       "45           6.2  \n",
       "46           6.7  \n",
       "47           6.0  \n",
       "48           6.8  \n",
       "49           6.4  \n",
       "98           8.1  "
      ]
     },
     "execution_count": 41,
     "metadata": {},
     "output_type": "execute_result"
    }
   ],
   "source": [
    "petallength=df[\"petal_length\"].between(0,3)\n",
    "df[petallength]"
   ]
  }
 ],
 "metadata": {
  "kernelspec": {
   "display_name": "Python 3",
   "language": "python",
   "name": "python3"
  },
  "language_info": {
   "codemirror_mode": {
    "name": "ipython",
    "version": 3
   },
   "file_extension": ".py",
   "mimetype": "text/x-python",
   "name": "python",
   "nbconvert_exporter": "python",
   "pygments_lexer": "ipython3",
   "version": "3.7.12"
  },
  "papermill": {
   "default_parameters": {},
   "duration": 32.656863,
   "end_time": "2022-03-29T22:18:06.726578",
   "environment_variables": {},
   "exception": null,
   "input_path": "__notebook__.ipynb",
   "output_path": "__notebook__.ipynb",
   "parameters": {},
   "start_time": "2022-03-29T22:17:34.069715",
   "version": "2.3.3"
  }
 },
 "nbformat": 4,
 "nbformat_minor": 5
}
